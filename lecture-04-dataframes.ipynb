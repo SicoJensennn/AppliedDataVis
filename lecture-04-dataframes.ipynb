{
 "cells": [
  {
   "cell_type": "markdown",
   "metadata": {},
   "source": [
    "# Applied Data Visaulization Lecture 4: Pandas\n",
    "\n"
   ]
  },
  {
   "cell_type": "markdown",
   "metadata": {},
   "source": [
    "## Series Recap"
   ]
  },
  {
   "cell_type": "code",
   "execution_count": 1,
   "metadata": {},
   "outputs": [],
   "source": [
    "import pandas as pd"
   ]
  },
  {
   "cell_type": "markdown",
   "metadata": {},
   "source": [
    "Series are the most fundamental data structure in pandas. Let's create two simple series based on an arrays:"
   ]
  },
  {
   "cell_type": "code",
   "execution_count": 2,
   "metadata": {},
   "outputs": [
    {
     "data": {
      "text/plain": [
       "0        Stones\n",
       "1       Beatles\n",
       "2      Zeppelin\n",
       "3    Pink Floyd\n",
       "dtype: object"
      ]
     },
     "execution_count": 2,
     "metadata": {},
     "output_type": "execute_result"
    }
   ],
   "source": [
    "\n",
    "bands = pd.Series([\"Stones\", \"Beatles\", \"Zeppelin\", \"Pink Floyd\"])\n",
    "bands"
   ]
  },
  {
   "cell_type": "code",
   "execution_count": 3,
   "metadata": {},
   "outputs": [
    {
     "data": {
      "text/plain": [
       "0    1962\n",
       "1    1960\n",
       "2    1968\n",
       "3    1965\n",
       "dtype: int64"
      ]
     },
     "execution_count": 3,
     "metadata": {},
     "output_type": "execute_result"
    }
   ],
   "source": [
    "founded = pd.Series([1962, 1960, 1968, 1965])\n",
    "founded"
   ]
  },
  {
   "cell_type": "code",
   "execution_count": 4,
   "metadata": {},
   "outputs": [
    {
     "data": {
      "text/plain": [
       "Stones        1962\n",
       "Beatles       1960\n",
       "Zeppelin      1968\n",
       "Pink Floyd    1965\n",
       "Pink Floyd    2012\n",
       "Name: Bands founded, dtype: int64"
      ]
     },
     "execution_count": 4,
     "metadata": {},
     "output_type": "execute_result"
    }
   ],
   "source": [
    "# the data is the first parameter, the index is given by the index keyword\n",
    "bands_founded = pd.Series([1962, 1960, 1968, 1965, 2012],\n",
    "                          index=[\"Stones\", \"Beatles\", \"Zeppelin\", \"Pink Floyd\", \"Pink Floyd\"], \n",
    "                          name=\"Bands founded\")\n",
    "bands_founded"
   ]
  },
  {
   "cell_type": "markdown",
   "metadata": {},
   "source": [
    "Indexing and slicing works largely like in normal python, but instead of just directly using the bracket notations, it is recommended to use `iloc` for indexing by position and `loc` for indexing by labelled indices. "
   ]
  },
  {
   "cell_type": "code",
   "execution_count": 5,
   "metadata": {},
   "outputs": [
    {
     "data": {
      "text/plain": [
       "Beatles     1960\n",
       "Zeppelin    1968\n",
       "Name: Bands founded, dtype: int64"
      ]
     },
     "execution_count": 5,
     "metadata": {},
     "output_type": "execute_result"
    }
   ],
   "source": [
    "# slicing by position\n",
    "bands_founded.iloc[1:3]"
   ]
  },
  {
   "cell_type": "markdown",
   "metadata": {},
   "source": [
    "When slicing by labelled index, the last value specified is *included*, which differs from regular Python slicing behavior."
   ]
  },
  {
   "cell_type": "code",
   "execution_count": 6,
   "metadata": {},
   "outputs": [
    {
     "data": {
      "text/plain": [
       "Zeppelin      1968\n",
       "Pink Floyd    1965\n",
       "Pink Floyd    2012\n",
       "Name: Bands founded, dtype: int64"
      ]
     },
     "execution_count": 6,
     "metadata": {},
     "output_type": "execute_result"
    }
   ],
   "source": [
    "# slicing by index\n",
    "bands_founded.loc[\"Zeppelin\" : \"Pink Floyd\"]"
   ]
  },
  {
   "cell_type": "code",
   "execution_count": 7,
   "metadata": {},
   "outputs": [
    {
     "data": {
      "text/plain": [
       "1       Beatles\n",
       "2      Zeppelin\n",
       "3    Pink Floyd\n",
       "dtype: object"
      ]
     },
     "execution_count": 7,
     "metadata": {},
     "output_type": "execute_result"
    }
   ],
   "source": [
    "# Note that index 17 is included\n",
    "bands.loc[1:17]"
   ]
  },
  {
   "cell_type": "markdown",
   "metadata": {},
   "source": [
    "For series (not for data frames), `loc` and just using bracket notation is identical: "
   ]
  },
  {
   "cell_type": "code",
   "execution_count": 8,
   "metadata": {},
   "outputs": [
    {
     "data": {
      "text/plain": [
       "2      Zeppelin\n",
       "3    Pink Floyd\n",
       "dtype: object"
      ]
     },
     "execution_count": 8,
     "metadata": {},
     "output_type": "execute_result"
    }
   ],
   "source": [
    "bands[2:17]"
   ]
  },
  {
   "cell_type": "markdown",
   "metadata": {},
   "source": [
    "Both, `iloc` and `loc` can be used with arrays, which isn't possible in vanilla Python:"
   ]
  },
  {
   "cell_type": "code",
   "execution_count": 9,
   "metadata": {},
   "outputs": [
    {
     "data": {
      "text/plain": [
       "Stones        1962\n",
       "Pink Floyd    1965\n",
       "Name: Bands founded, dtype: int64"
      ]
     },
     "execution_count": 9,
     "metadata": {},
     "output_type": "execute_result"
    }
   ],
   "source": [
    "bands_founded.iloc[[0,3]]"
   ]
  },
  {
   "cell_type": "code",
   "execution_count": 10,
   "metadata": {},
   "outputs": [
    {
     "data": {
      "text/plain": [
       "Beatles       1960\n",
       "Pink Floyd    1965\n",
       "Pink Floyd    2012\n",
       "Name: Bands founded, dtype: int64"
      ]
     },
     "execution_count": 10,
     "metadata": {},
     "output_type": "execute_result"
    }
   ],
   "source": [
    "bands_founded.loc[[\"Beatles\", \"Pink Floyd\"]]"
   ]
  },
  {
   "cell_type": "markdown",
   "metadata": {},
   "source": [
    "And, all these variants can also be used with boolean arrays, which we will soon find out to be very helpful:"
   ]
  },
  {
   "cell_type": "code",
   "execution_count": 11,
   "metadata": {},
   "outputs": [
    {
     "data": {
      "text/plain": [
       "Stones        1962\n",
       "Beatles       1960\n",
       "Zeppelin      1968\n",
       "Pink Floyd    1965\n",
       "Pink Floyd    2012\n",
       "Name: Bands founded, dtype: int64"
      ]
     },
     "execution_count": 11,
     "metadata": {},
     "output_type": "execute_result"
    }
   ],
   "source": [
    "bands_founded"
   ]
  },
  {
   "cell_type": "code",
   "execution_count": 12,
   "metadata": {},
   "outputs": [
    {
     "data": {
      "text/plain": [
       "Stones        1962\n",
       "Pink Floyd    1965\n",
       "Pink Floyd    2012\n",
       "Name: Bands founded, dtype: int64"
      ]
     },
     "execution_count": 12,
     "metadata": {},
     "output_type": "execute_result"
    }
   ],
   "source": [
    "bands_founded.loc[[True, False, False, True, True]]"
   ]
  },
  {
   "cell_type": "markdown",
   "metadata": {},
   "source": [
    "### Masking and Filtering\n",
    "\n",
    "With pandas we can create boolean arrays that we can use to mask and filter a dataset. In the following expression, we'll create a new array that has \"True\" for every band formed after 1964:"
   ]
  },
  {
   "cell_type": "code",
   "execution_count": 13,
   "metadata": {},
   "outputs": [
    {
     "data": {
      "text/plain": [
       "Stones        False\n",
       "Beatles       False\n",
       "Zeppelin       True\n",
       "Pink Floyd     True\n",
       "Pink Floyd     True\n",
       "Name: Bands founded, dtype: bool"
      ]
     },
     "execution_count": 13,
     "metadata": {},
     "output_type": "execute_result"
    }
   ],
   "source": [
    "mask = bands_founded > 1964\n",
    "mask"
   ]
  },
  {
   "cell_type": "markdown",
   "metadata": {},
   "source": [
    "This uses a technique called **broadcasting**. We can use broadcasting with various operations:"
   ]
  },
  {
   "cell_type": "code",
   "execution_count": 14,
   "metadata": {},
   "outputs": [
    {
     "data": {
      "text/plain": [
       "Stones        23544\n",
       "Beatles       23520\n",
       "Zeppelin      23616\n",
       "Pink Floyd    23580\n",
       "Pink Floyd    24144\n",
       "Name: Bands founded, dtype: int64"
      ]
     },
     "execution_count": 14,
     "metadata": {},
     "output_type": "execute_result"
    }
   ],
   "source": [
    "# Not particularly useful for this dataset..\n",
    "founding_months = bands_founded * 12\n",
    "founding_months"
   ]
  },
  {
   "cell_type": "markdown",
   "metadata": {},
   "source": [
    "We can use a boolean mask to filter a series, as we've seen before:"
   ]
  },
  {
   "cell_type": "code",
   "execution_count": 15,
   "metadata": {},
   "outputs": [
    {
     "data": {
      "text/plain": [
       "Zeppelin      1968\n",
       "Pink Floyd    1965\n",
       "Pink Floyd    2012\n",
       "Name: Bands founded, dtype: int64"
      ]
     },
     "execution_count": 15,
     "metadata": {},
     "output_type": "execute_result"
    }
   ],
   "source": [
    "# applying the mask to the original array\n",
    "# note that almost all of those operations return a new copy and don't modify in place\n",
    "bands_founded[mask]"
   ]
  },
  {
   "cell_type": "markdown",
   "metadata": {},
   "source": [
    "The short form here would be:"
   ]
  },
  {
   "cell_type": "code",
   "execution_count": 16,
   "metadata": {},
   "outputs": [
    {
     "data": {
      "text/plain": [
       "Zeppelin      1968\n",
       "Pink Floyd    2012\n",
       "Name: Bands founded, dtype: int64"
      ]
     },
     "execution_count": 16,
     "metadata": {},
     "output_type": "execute_result"
    }
   ],
   "source": [
    "bands_founded[bands_founded > 1967]"
   ]
  },
  {
   "cell_type": "markdown",
   "metadata": {},
   "source": [
    "## Exploring a Series\n",
    "\n",
    "There are various way we can explore a series. We can count the number of non-null values: "
   ]
  },
  {
   "cell_type": "code",
   "execution_count": 17,
   "metadata": {},
   "outputs": [
    {
     "data": {
      "text/plain": [
       "6"
      ]
     },
     "execution_count": 17,
     "metadata": {},
     "output_type": "execute_result"
    }
   ],
   "source": [
    "numbers = pd.Series([1962, 1960, 1968, 1965, 2012, None, 2016])\n",
    "numbers.count()"
   ]
  },
  {
   "cell_type": "markdown",
   "metadata": {},
   "source": [
    "We can also get an overview of the statistical properties of a series: "
   ]
  },
  {
   "cell_type": "code",
   "execution_count": 18,
   "metadata": {},
   "outputs": [
    {
     "data": {
      "text/plain": [
       "count       6.000000\n",
       "mean     1980.500000\n",
       "std        26.120873\n",
       "min      1960.000000\n",
       "25%      1962.750000\n",
       "50%      1966.500000\n",
       "75%      2001.000000\n",
       "max      2016.000000\n",
       "dtype: float64"
      ]
     },
     "execution_count": 18,
     "metadata": {},
     "output_type": "execute_result"
    }
   ],
   "source": [
    "numbers.describe()"
   ]
  },
  {
   "cell_type": "markdown",
   "metadata": {},
   "source": [
    "Note that None/NaN values are ignored here. We can drop all NaN values if we desire:"
   ]
  },
  {
   "cell_type": "code",
   "execution_count": 19,
   "metadata": {},
   "outputs": [
    {
     "data": {
      "text/plain": [
       "0    1962.0\n",
       "1    1960.0\n",
       "2    1968.0\n",
       "3    1965.0\n",
       "4    2012.0\n",
       "6    2016.0\n",
       "dtype: float64"
      ]
     },
     "execution_count": 19,
     "metadata": {},
     "output_type": "execute_result"
    }
   ],
   "source": [
    "numbers = numbers.dropna()\n",
    "numbers"
   ]
  },
  {
   "cell_type": "markdown",
   "metadata": {},
   "source": [
    "This works also for non-numerical data. Of course, we get different measures:"
   ]
  },
  {
   "cell_type": "code",
   "execution_count": 20,
   "metadata": {},
   "outputs": [
    {
     "data": {
      "text/plain": [
       "count          4\n",
       "unique         4\n",
       "top       Stones\n",
       "freq           1\n",
       "dtype: object"
      ]
     },
     "execution_count": 20,
     "metadata": {},
     "output_type": "execute_result"
    }
   ],
   "source": [
    "bands.describe()"
   ]
  },
  {
   "cell_type": "markdown",
   "metadata": {},
   "source": [
    "## Sorting \n",
    "\n",
    "We can sort a series:"
   ]
  },
  {
   "cell_type": "code",
   "execution_count": 21,
   "metadata": {},
   "outputs": [
    {
     "data": {
      "text/plain": [
       "6    2016.0\n",
       "4    2012.0\n",
       "2    1968.0\n",
       "3    1965.0\n",
       "0    1962.0\n",
       "1    1960.0\n",
       "dtype: float64"
      ]
     },
     "execution_count": 21,
     "metadata": {},
     "output_type": "execute_result"
    }
   ],
   "source": [
    "sorted_numbers = numbers.sort_values(ascending=False)\n",
    "sorted_numbers"
   ]
  },
  {
   "cell_type": "markdown",
   "metadata": {},
   "source": [
    "Note that the indices remain the same! We can **reset the indices**:"
   ]
  },
  {
   "cell_type": "code",
   "execution_count": 22,
   "metadata": {},
   "outputs": [
    {
     "data": {
      "text/plain": [
       "0    2016.0\n",
       "1    2012.0\n",
       "2    1968.0\n",
       "3    1965.0\n",
       "4    1962.0\n",
       "5    1960.0\n",
       "dtype: float64"
      ]
     },
     "execution_count": 22,
     "metadata": {},
     "output_type": "execute_result"
    }
   ],
   "source": [
    "# If we don't specify drop to be true, the previous indices are preserved in a separte column\n",
    "sorted_numbers = sorted_numbers.reset_index(drop=True)\n",
    "sorted_numbers"
   ]
  },
  {
   "cell_type": "markdown",
   "metadata": {},
   "source": [
    "We can also sort by the index:"
   ]
  },
  {
   "cell_type": "code",
   "execution_count": 23,
   "metadata": {},
   "outputs": [
    {
     "name": "stdout",
     "output_type": "stream",
     "text": [
      "1    1960.0\n",
      "0    1962.0\n",
      "3    1965.0\n",
      "2    1968.0\n",
      "4    2012.0\n",
      "6    2016.0\n",
      "dtype: float64\n"
     ]
    },
    {
     "data": {
      "text/plain": [
       "0    1962.0\n",
       "1    1960.0\n",
       "2    1968.0\n",
       "3    1965.0\n",
       "4    2012.0\n",
       "6    2016.0\n",
       "dtype: float64"
      ]
     },
     "execution_count": 23,
     "metadata": {},
     "output_type": "execute_result"
    }
   ],
   "source": [
    "# mix up the indices first\n",
    "new_sorted_numbers = numbers.sort_values()\n",
    "print(new_sorted_numbers)\n",
    "new_sorted_numbers.sort_index()"
   ]
  },
  {
   "cell_type": "markdown",
   "metadata": {},
   "source": [
    "## Applying a Function\n",
    "\n",
    "Often, we will want to apply a function to all values of a Series. We can do that with the [`map()`](https://pandas.pydata.org/pandas-docs/stable/reference/api/pandas.Series.map.html) function:"
   ]
  },
  {
   "cell_type": "code",
   "execution_count": 24,
   "metadata": {},
   "outputs": [
    {
     "data": {
      "text/plain": [
       "1    1960-01-01\n",
       "0    1962-01-01\n",
       "3    1965-01-01\n",
       "2    1968-01-01\n",
       "4    2012-01-01\n",
       "6    2016-01-01\n",
       "dtype: object"
      ]
     },
     "execution_count": 24,
     "metadata": {},
     "output_type": "execute_result"
    }
   ],
   "source": [
    "import datetime\n",
    "\n",
    "# Convert an integer year into a date, assuming Jan 1 as day and month.\n",
    "def to_date(year):\n",
    "    return datetime.date(int(year), 1, 1)\n",
    "    \n",
    "new_sorted_numbers.map(to_date)"
   ]
  },
  {
   "cell_type": "markdown",
   "metadata": {},
   "source": [
    "This is an incredibly powerful concept that you can use to modify series in sophisticated ways, similar to list comprehension. \n",
    "\n",
    "Another way to use the map function is to pass in a dictionary that is then applied to matching objects: "
   ]
  },
  {
   "cell_type": "code",
   "execution_count": 25,
   "metadata": {},
   "outputs": [
    {
     "data": {
      "text/plain": [
       "1     NaN\n",
       "0     NaN\n",
       "3    1945\n",
       "2    What\n",
       "4    1999\n",
       "6     NaN\n",
       "dtype: object"
      ]
     },
     "execution_count": 25,
     "metadata": {},
     "output_type": "execute_result"
    }
   ],
   "source": [
    "new_sorted_numbers.map({1965:1945, 2012:1999, 1968:\"What\"})"
   ]
  },
  {
   "cell_type": "markdown",
   "metadata": {},
   "source": [
    "# Data Frames\n",
    "\n",
    "Before we look at dataframes, let's just load some data from a file."
   ]
  },
  {
   "cell_type": "code",
   "execution_count": 26,
   "metadata": {},
   "outputs": [
    {
     "data": {
      "text/html": [
       "<div>\n",
       "<style scoped>\n",
       "    .dataframe tbody tr th:only-of-type {\n",
       "        vertical-align: middle;\n",
       "    }\n",
       "\n",
       "    .dataframe tbody tr th {\n",
       "        vertical-align: top;\n",
       "    }\n",
       "\n",
       "    .dataframe thead th {\n",
       "        text-align: right;\n",
       "    }\n",
       "</style>\n",
       "<table border=\"1\" class=\"dataframe\">\n",
       "  <thead>\n",
       "    <tr style=\"text-align: right;\">\n",
       "      <th></th>\n",
       "      <th>Artist</th>\n",
       "      <th>Album</th>\n",
       "      <th>Released</th>\n",
       "      <th>Genre</th>\n",
       "      <th>Certified sales (millions)</th>\n",
       "      <th>Claimed sales (millions)</th>\n",
       "    </tr>\n",
       "  </thead>\n",
       "  <tbody>\n",
       "    <tr>\n",
       "      <th>0</th>\n",
       "      <td>Michael Jackson</td>\n",
       "      <td>Thriller</td>\n",
       "      <td>1982</td>\n",
       "      <td>Pop, rock, R&amp;B</td>\n",
       "      <td>45.4</td>\n",
       "      <td>65.0</td>\n",
       "    </tr>\n",
       "    <tr>\n",
       "      <th>1</th>\n",
       "      <td>AC/DC</td>\n",
       "      <td>Back in Black</td>\n",
       "      <td>1980</td>\n",
       "      <td>Hard rock</td>\n",
       "      <td>25.9</td>\n",
       "      <td>50.0</td>\n",
       "    </tr>\n",
       "    <tr>\n",
       "      <th>2</th>\n",
       "      <td>Pink Floyd</td>\n",
       "      <td>The Dark Side of the Moon</td>\n",
       "      <td>1973</td>\n",
       "      <td>Progressive rock</td>\n",
       "      <td>22.7</td>\n",
       "      <td>45.0</td>\n",
       "    </tr>\n",
       "    <tr>\n",
       "      <th>3</th>\n",
       "      <td>Whitney Houston / Various artists</td>\n",
       "      <td>The Bodyguard</td>\n",
       "      <td>1992</td>\n",
       "      <td>Soundtrack/R&amp;B, soul, pop</td>\n",
       "      <td>27.4</td>\n",
       "      <td>44.0</td>\n",
       "    </tr>\n",
       "    <tr>\n",
       "      <th>4</th>\n",
       "      <td>Meat Loaf</td>\n",
       "      <td>Bat Out of Hell</td>\n",
       "      <td>1977</td>\n",
       "      <td>Hard rock, progressive rock</td>\n",
       "      <td>20.6</td>\n",
       "      <td>43.0</td>\n",
       "    </tr>\n",
       "    <tr>\n",
       "      <th>...</th>\n",
       "      <td>...</td>\n",
       "      <td>...</td>\n",
       "      <td>...</td>\n",
       "      <td>...</td>\n",
       "      <td>...</td>\n",
       "      <td>...</td>\n",
       "    </tr>\n",
       "    <tr>\n",
       "      <th>72</th>\n",
       "      <td>Tracy Chapman</td>\n",
       "      <td>Tracy Chapman</td>\n",
       "      <td>1988</td>\n",
       "      <td>Folk rock</td>\n",
       "      <td>20.0</td>\n",
       "      <td>NaN</td>\n",
       "    </tr>\n",
       "    <tr>\n",
       "      <th>73</th>\n",
       "      <td>Usher</td>\n",
       "      <td>Confessions</td>\n",
       "      <td>2004</td>\n",
       "      <td>R&amp;B</td>\n",
       "      <td>20.0</td>\n",
       "      <td>NaN</td>\n",
       "    </tr>\n",
       "    <tr>\n",
       "      <th>74</th>\n",
       "      <td>Various artists</td>\n",
       "      <td>Flashdance: Original Soundtrack from the Motio...</td>\n",
       "      <td>1983</td>\n",
       "      <td>Soundtrack</td>\n",
       "      <td>20.0</td>\n",
       "      <td>NaN</td>\n",
       "    </tr>\n",
       "    <tr>\n",
       "      <th>75</th>\n",
       "      <td>Whitney Houston</td>\n",
       "      <td>Whitney</td>\n",
       "      <td>1987</td>\n",
       "      <td>Pop, R&amp;B</td>\n",
       "      <td>20.0</td>\n",
       "      <td>NaN</td>\n",
       "    </tr>\n",
       "    <tr>\n",
       "      <th>76</th>\n",
       "      <td>Shakira</td>\n",
       "      <td>Laundry Service</td>\n",
       "      <td>2001</td>\n",
       "      <td>Pop, Rock</td>\n",
       "      <td>20.0</td>\n",
       "      <td>NaN</td>\n",
       "    </tr>\n",
       "  </tbody>\n",
       "</table>\n",
       "<p>77 rows × 6 columns</p>\n",
       "</div>"
      ],
      "text/plain": [
       "                               Artist  \\\n",
       "0                     Michael Jackson   \n",
       "1                               AC/DC   \n",
       "2                          Pink Floyd   \n",
       "3   Whitney Houston / Various artists   \n",
       "4                           Meat Loaf   \n",
       "..                                ...   \n",
       "72                      Tracy Chapman   \n",
       "73                              Usher   \n",
       "74                    Various artists   \n",
       "75                    Whitney Houston   \n",
       "76                            Shakira   \n",
       "\n",
       "                                                Album  Released  \\\n",
       "0                                            Thriller      1982   \n",
       "1                                       Back in Black      1980   \n",
       "2                           The Dark Side of the Moon      1973   \n",
       "3                                       The Bodyguard      1992   \n",
       "4                                     Bat Out of Hell      1977   \n",
       "..                                                ...       ...   \n",
       "72                                      Tracy Chapman      1988   \n",
       "73                                        Confessions      2004   \n",
       "74  Flashdance: Original Soundtrack from the Motio...      1983   \n",
       "75                                            Whitney      1987   \n",
       "76                                    Laundry Service      2001   \n",
       "\n",
       "                          Genre  Certified sales (millions)  \\\n",
       "0                Pop, rock, R&B                        45.4   \n",
       "1                     Hard rock                        25.9   \n",
       "2              Progressive rock                        22.7   \n",
       "3     Soundtrack/R&B, soul, pop                        27.4   \n",
       "4   Hard rock, progressive rock                        20.6   \n",
       "..                          ...                         ...   \n",
       "72                    Folk rock                        20.0   \n",
       "73                          R&B                        20.0   \n",
       "74                   Soundtrack                        20.0   \n",
       "75                     Pop, R&B                        20.0   \n",
       "76                    Pop, Rock                        20.0   \n",
       "\n",
       "    Claimed sales (millions)  \n",
       "0                       65.0  \n",
       "1                       50.0  \n",
       "2                       45.0  \n",
       "3                       44.0  \n",
       "4                       43.0  \n",
       "..                       ...  \n",
       "72                       NaN  \n",
       "73                       NaN  \n",
       "74                       NaN  \n",
       "75                       NaN  \n",
       "76                       NaN  \n",
       "\n",
       "[77 rows x 6 columns]"
      ]
     },
     "execution_count": 26,
     "metadata": {},
     "output_type": "execute_result"
    }
   ],
   "source": [
    "hit_albums = pd.read_csv(\"hit_albums.csv\")\n",
    "hit_albums"
   ]
  },
  {
   "cell_type": "markdown",
   "metadata": {},
   "source": [
    "Pandas provides the insanely powerful ['read_csv()'](http://pandas.pydata.org/pandas-docs/stable/generated/pandas.read_csv.html) method. Also see [the documentation](http://pandas.pydata.org/pandas-docs/stable/io.html) for more info on all I/O operations in pandas, including writing CSV files. \n",
    "\n",
    "You can pass a lot of arguments to the method, such as delimiters, quote-chars, etc., but for our case the default parameters just worked. \n",
    "\n",
    "We've also just created our first data frame! Let's look at data frames in detail next. "
   ]
  },
  {
   "cell_type": "markdown",
   "metadata": {},
   "source": [
    "A data frame is a column-oriented data structure where each column is a pandas series.\n",
    "\n",
    "Here is a great [cheat sheet](https://pandas.pydata.org/Pandas_Cheat_Sheet.pdf) for pandas functions. \n",
    "\n",
    "We've already loaded a data frame from file, but for completeness sake, let's create one in code: "
   ]
  },
  {
   "cell_type": "code",
   "execution_count": 27,
   "metadata": {},
   "outputs": [
    {
     "data": {
      "text/html": [
       "<div>\n",
       "<style scoped>\n",
       "    .dataframe tbody tr th:only-of-type {\n",
       "        vertical-align: middle;\n",
       "    }\n",
       "\n",
       "    .dataframe tbody tr th {\n",
       "        vertical-align: top;\n",
       "    }\n",
       "\n",
       "    .dataframe thead th {\n",
       "        text-align: right;\n",
       "    }\n",
       "</style>\n",
       "<table border=\"1\" class=\"dataframe\">\n",
       "  <thead>\n",
       "    <tr style=\"text-align: right;\">\n",
       "      <th></th>\n",
       "      <th>Name</th>\n",
       "      <th>No Members</th>\n",
       "      <th>No Albums</th>\n",
       "    </tr>\n",
       "  </thead>\n",
       "  <tbody>\n",
       "    <tr>\n",
       "      <th>0</th>\n",
       "      <td>Led Zeppelin</td>\n",
       "      <td>4</td>\n",
       "      <td>9</td>\n",
       "    </tr>\n",
       "    <tr>\n",
       "      <th>1</th>\n",
       "      <td>The Beatles</td>\n",
       "      <td>4</td>\n",
       "      <td>12</td>\n",
       "    </tr>\n",
       "    <tr>\n",
       "      <th>2</th>\n",
       "      <td>Rolling Stones</td>\n",
       "      <td>4</td>\n",
       "      <td>29</td>\n",
       "    </tr>\n",
       "    <tr>\n",
       "      <th>3</th>\n",
       "      <td>Radiohead</td>\n",
       "      <td>5</td>\n",
       "      <td>9</td>\n",
       "    </tr>\n",
       "  </tbody>\n",
       "</table>\n",
       "</div>"
      ],
      "text/plain": [
       "             Name  No Members  No Albums\n",
       "0    Led Zeppelin           4          9\n",
       "1     The Beatles           4         12\n",
       "2  Rolling Stones           4         29\n",
       "3       Radiohead           5          9"
      ]
     },
     "execution_count": 27,
     "metadata": {},
     "output_type": "execute_result"
    }
   ],
   "source": [
    "bandInfo = pd.DataFrame({\n",
    "        \"Name\":[\"Led Zeppelin\", \"The Beatles\", \"Rolling Stones\", \"Radiohead\"],\n",
    "        \"No Members\":[4, 4, 4, 5],\n",
    "        \"No Albums\":[9, 12, 29 ,9]\n",
    "    })\n",
    "bandInfo"
   ]
  },
  {
   "cell_type": "markdown",
   "metadata": {},
   "source": [
    "This dataframe was initialized with a dictonary of column headers as keys and column data as values."
   ]
  },
  {
   "cell_type": "markdown",
   "metadata": {},
   "source": [
    "Just as a series, a data frame has an index, which corresponds to the first column here. In this case the index was automatically generated, but as for the series, we could use explicit values for the index. \n",
    "\n",
    "We can access columns in a data frame, which returns a series:"
   ]
  },
  {
   "cell_type": "code",
   "execution_count": 28,
   "metadata": {},
   "outputs": [
    {
     "data": {
      "text/plain": [
       "0      Led Zeppelin\n",
       "1       The Beatles\n",
       "2    Rolling Stones\n",
       "3         Radiohead\n",
       "Name: Name, dtype: object"
      ]
     },
     "execution_count": 28,
     "metadata": {},
     "output_type": "execute_result"
    }
   ],
   "source": [
    "bandInfo[\"Name\"]"
   ]
  },
  {
   "cell_type": "code",
   "execution_count": 29,
   "metadata": {},
   "outputs": [
    {
     "data": {
      "text/plain": [
       "pandas.core.series.Series"
      ]
     },
     "execution_count": 29,
     "metadata": {},
     "output_type": "execute_result"
    }
   ],
   "source": [
    "type(bandInfo[\"Name\"])"
   ]
  },
  {
   "cell_type": "markdown",
   "metadata": {},
   "source": [
    "And obviously, we can do all the things we've learned about to this column/series. "
   ]
  },
  {
   "cell_type": "markdown",
   "metadata": {},
   "source": [
    "The previous example used columns to create the data frame. We can also create a data frame from rows. This doesn't make a ton of sense in this example, but data could be available like this from your data source, like if you're parsing a CSV."
   ]
  },
  {
   "cell_type": "code",
   "execution_count": 30,
   "metadata": {},
   "outputs": [
    {
     "data": {
      "text/html": [
       "<div>\n",
       "<style scoped>\n",
       "    .dataframe tbody tr th:only-of-type {\n",
       "        vertical-align: middle;\n",
       "    }\n",
       "\n",
       "    .dataframe tbody tr th {\n",
       "        vertical-align: top;\n",
       "    }\n",
       "\n",
       "    .dataframe thead th {\n",
       "        text-align: right;\n",
       "    }\n",
       "</style>\n",
       "<table border=\"1\" class=\"dataframe\">\n",
       "  <thead>\n",
       "    <tr style=\"text-align: right;\">\n",
       "      <th></th>\n",
       "      <th>Name</th>\n",
       "      <th>No Albums</th>\n",
       "      <th>No Members</th>\n",
       "    </tr>\n",
       "  </thead>\n",
       "  <tbody>\n",
       "    <tr>\n",
       "      <th>0</th>\n",
       "      <td>Led Zeppelin</td>\n",
       "      <td>9</td>\n",
       "      <td>4</td>\n",
       "    </tr>\n",
       "    <tr>\n",
       "      <th>1</th>\n",
       "      <td>The Beatles</td>\n",
       "      <td>12</td>\n",
       "      <td>4</td>\n",
       "    </tr>\n",
       "    <tr>\n",
       "      <th>2</th>\n",
       "      <td>Rolling Stones</td>\n",
       "      <td>29</td>\n",
       "      <td>4</td>\n",
       "    </tr>\n",
       "    <tr>\n",
       "      <th>3</th>\n",
       "      <td>Radiohead</td>\n",
       "      <td>9</td>\n",
       "      <td>5</td>\n",
       "    </tr>\n",
       "  </tbody>\n",
       "</table>\n",
       "</div>"
      ],
      "text/plain": [
       "             Name  No Albums  No Members\n",
       "0    Led Zeppelin          9           4\n",
       "1     The Beatles         12           4\n",
       "2  Rolling Stones         29           4\n",
       "3       Radiohead          9           5"
      ]
     },
     "execution_count": 30,
     "metadata": {},
     "output_type": "execute_result"
    }
   ],
   "source": [
    "bandInfo2 = pd.DataFrame([\n",
    "        {\"Name\":\"Led Zeppelin\", \"No Albums\":9, \"No Members\":4},\n",
    "        {\"Name\":\"The Beatles\", \"No Albums\":12, \"No Members\":4},\n",
    "        {\"Name\":\"Rolling Stones\", \"No Albums\":29, \"No Members\":4},\n",
    "        {\"Name\":\"Radiohead\", \"No Albums\":9, \"No Members\":5},\n",
    "    ])\n",
    "bandInfo2"
   ]
  },
  {
   "cell_type": "markdown",
   "metadata": {},
   "source": [
    "While a series has only one axis, a dataframe has two, one for the rows (the index or '0' axis), one for the columns (the column or '1' axis). We can check out these axes:"
   ]
  },
  {
   "cell_type": "code",
   "execution_count": 31,
   "metadata": {},
   "outputs": [
    {
     "data": {
      "text/plain": [
       "[RangeIndex(start=0, stop=4, step=1),\n",
       " Index(['Name', 'No Members', 'No Albums'], dtype='object')]"
      ]
     },
     "execution_count": 31,
     "metadata": {},
     "output_type": "execute_result"
    }
   ],
   "source": [
    "bandInfo.axes"
   ]
  },
  {
   "cell_type": "markdown",
   "metadata": {},
   "source": [
    "## Exploring Data Frames\n",
    "\n",
    "You might have noticed that data frames are rendered in nice HTML tables within Jupyter Notebooks. For small data frames, just showing all the data makes sense, but for larger datasets, like our `hit_albums` dataset, plotting 70+ rows can be annoying, and for datasets with hundreds or thousands of rows it can be prohibitive. By default, a data frame only prints a limited number of elements. Notice the `...` in row 5 of the output of `hit_albums` above – only the first 4 and last 4 are printed. \n",
    "\n",
    "When working with data, e.g., when transforming or loading a dataset, it is important to see the raw data, for example, to check if a transformation was done correctly. Often, however, it's sufficient to see a part of the data, e.g., the first couple of rows and/or the last couple of rows. We can do this with the `head()` and `tail()` function:"
   ]
  },
  {
   "cell_type": "code",
   "execution_count": 32,
   "metadata": {},
   "outputs": [
    {
     "data": {
      "text/html": [
       "<div>\n",
       "<style scoped>\n",
       "    .dataframe tbody tr th:only-of-type {\n",
       "        vertical-align: middle;\n",
       "    }\n",
       "\n",
       "    .dataframe tbody tr th {\n",
       "        vertical-align: top;\n",
       "    }\n",
       "\n",
       "    .dataframe thead th {\n",
       "        text-align: right;\n",
       "    }\n",
       "</style>\n",
       "<table border=\"1\" class=\"dataframe\">\n",
       "  <thead>\n",
       "    <tr style=\"text-align: right;\">\n",
       "      <th></th>\n",
       "      <th>Artist</th>\n",
       "      <th>Album</th>\n",
       "      <th>Released</th>\n",
       "      <th>Genre</th>\n",
       "      <th>Certified sales (millions)</th>\n",
       "      <th>Claimed sales (millions)</th>\n",
       "    </tr>\n",
       "  </thead>\n",
       "  <tbody>\n",
       "    <tr>\n",
       "      <th>0</th>\n",
       "      <td>Michael Jackson</td>\n",
       "      <td>Thriller</td>\n",
       "      <td>1982</td>\n",
       "      <td>Pop, rock, R&amp;B</td>\n",
       "      <td>45.4</td>\n",
       "      <td>65.0</td>\n",
       "    </tr>\n",
       "    <tr>\n",
       "      <th>1</th>\n",
       "      <td>AC/DC</td>\n",
       "      <td>Back in Black</td>\n",
       "      <td>1980</td>\n",
       "      <td>Hard rock</td>\n",
       "      <td>25.9</td>\n",
       "      <td>50.0</td>\n",
       "    </tr>\n",
       "    <tr>\n",
       "      <th>2</th>\n",
       "      <td>Pink Floyd</td>\n",
       "      <td>The Dark Side of the Moon</td>\n",
       "      <td>1973</td>\n",
       "      <td>Progressive rock</td>\n",
       "      <td>22.7</td>\n",
       "      <td>45.0</td>\n",
       "    </tr>\n",
       "    <tr>\n",
       "      <th>3</th>\n",
       "      <td>Whitney Houston / Various artists</td>\n",
       "      <td>The Bodyguard</td>\n",
       "      <td>1992</td>\n",
       "      <td>Soundtrack/R&amp;B, soul, pop</td>\n",
       "      <td>27.4</td>\n",
       "      <td>44.0</td>\n",
       "    </tr>\n",
       "    <tr>\n",
       "      <th>4</th>\n",
       "      <td>Meat Loaf</td>\n",
       "      <td>Bat Out of Hell</td>\n",
       "      <td>1977</td>\n",
       "      <td>Hard rock, progressive rock</td>\n",
       "      <td>20.6</td>\n",
       "      <td>43.0</td>\n",
       "    </tr>\n",
       "  </tbody>\n",
       "</table>\n",
       "</div>"
      ],
      "text/plain": [
       "                              Artist                      Album  Released  \\\n",
       "0                    Michael Jackson                   Thriller      1982   \n",
       "1                              AC/DC              Back in Black      1980   \n",
       "2                         Pink Floyd  The Dark Side of the Moon      1973   \n",
       "3  Whitney Houston / Various artists              The Bodyguard      1992   \n",
       "4                          Meat Loaf            Bat Out of Hell      1977   \n",
       "\n",
       "                         Genre  Certified sales (millions)  \\\n",
       "0               Pop, rock, R&B                        45.4   \n",
       "1                    Hard rock                        25.9   \n",
       "2             Progressive rock                        22.7   \n",
       "3    Soundtrack/R&B, soul, pop                        27.4   \n",
       "4  Hard rock, progressive rock                        20.6   \n",
       "\n",
       "   Claimed sales (millions)  \n",
       "0                      65.0  \n",
       "1                      50.0  \n",
       "2                      45.0  \n",
       "3                      44.0  \n",
       "4                      43.0  "
      ]
     },
     "execution_count": 32,
     "metadata": {},
     "output_type": "execute_result"
    }
   ],
   "source": [
    "# head shows the first 5 rows of a datset\n",
    "hit_albums.head()"
   ]
  },
  {
   "cell_type": "code",
   "execution_count": 33,
   "metadata": {},
   "outputs": [
    {
     "data": {
      "text/html": [
       "<div>\n",
       "<style scoped>\n",
       "    .dataframe tbody tr th:only-of-type {\n",
       "        vertical-align: middle;\n",
       "    }\n",
       "\n",
       "    .dataframe tbody tr th {\n",
       "        vertical-align: top;\n",
       "    }\n",
       "\n",
       "    .dataframe thead th {\n",
       "        text-align: right;\n",
       "    }\n",
       "</style>\n",
       "<table border=\"1\" class=\"dataframe\">\n",
       "  <thead>\n",
       "    <tr style=\"text-align: right;\">\n",
       "      <th></th>\n",
       "      <th>Artist</th>\n",
       "      <th>Album</th>\n",
       "      <th>Released</th>\n",
       "      <th>Genre</th>\n",
       "      <th>Certified sales (millions)</th>\n",
       "      <th>Claimed sales (millions)</th>\n",
       "    </tr>\n",
       "  </thead>\n",
       "  <tbody>\n",
       "    <tr>\n",
       "      <th>0</th>\n",
       "      <td>Michael Jackson</td>\n",
       "      <td>Thriller</td>\n",
       "      <td>1982</td>\n",
       "      <td>Pop, rock, R&amp;B</td>\n",
       "      <td>45.4</td>\n",
       "      <td>65.0</td>\n",
       "    </tr>\n",
       "    <tr>\n",
       "      <th>1</th>\n",
       "      <td>AC/DC</td>\n",
       "      <td>Back in Black</td>\n",
       "      <td>1980</td>\n",
       "      <td>Hard rock</td>\n",
       "      <td>25.9</td>\n",
       "      <td>50.0</td>\n",
       "    </tr>\n",
       "    <tr>\n",
       "      <th>2</th>\n",
       "      <td>Pink Floyd</td>\n",
       "      <td>The Dark Side of the Moon</td>\n",
       "      <td>1973</td>\n",
       "      <td>Progressive rock</td>\n",
       "      <td>22.7</td>\n",
       "      <td>45.0</td>\n",
       "    </tr>\n",
       "    <tr>\n",
       "      <th>3</th>\n",
       "      <td>Whitney Houston / Various artists</td>\n",
       "      <td>The Bodyguard</td>\n",
       "      <td>1992</td>\n",
       "      <td>Soundtrack/R&amp;B, soul, pop</td>\n",
       "      <td>27.4</td>\n",
       "      <td>44.0</td>\n",
       "    </tr>\n",
       "    <tr>\n",
       "      <th>4</th>\n",
       "      <td>Meat Loaf</td>\n",
       "      <td>Bat Out of Hell</td>\n",
       "      <td>1977</td>\n",
       "      <td>Hard rock, progressive rock</td>\n",
       "      <td>20.6</td>\n",
       "      <td>43.0</td>\n",
       "    </tr>\n",
       "    <tr>\n",
       "      <th>5</th>\n",
       "      <td>Eagles</td>\n",
       "      <td>Their Greatest Hits (1971–1975)</td>\n",
       "      <td>1976</td>\n",
       "      <td>Rock, soft rock, folk rock</td>\n",
       "      <td>32.2</td>\n",
       "      <td>42.0</td>\n",
       "    </tr>\n",
       "    <tr>\n",
       "      <th>6</th>\n",
       "      <td>Bee Gees / Various artists</td>\n",
       "      <td>Saturday Night Fever</td>\n",
       "      <td>1977</td>\n",
       "      <td>Disco</td>\n",
       "      <td>19.0</td>\n",
       "      <td>40.0</td>\n",
       "    </tr>\n",
       "    <tr>\n",
       "      <th>7</th>\n",
       "      <td>Fleetwood Mac</td>\n",
       "      <td>Rumours</td>\n",
       "      <td>1977</td>\n",
       "      <td>Soft rock</td>\n",
       "      <td>27.9</td>\n",
       "      <td>40.0</td>\n",
       "    </tr>\n",
       "  </tbody>\n",
       "</table>\n",
       "</div>"
      ],
      "text/plain": [
       "                              Artist                            Album  \\\n",
       "0                    Michael Jackson                         Thriller   \n",
       "1                              AC/DC                    Back in Black   \n",
       "2                         Pink Floyd        The Dark Side of the Moon   \n",
       "3  Whitney Houston / Various artists                    The Bodyguard   \n",
       "4                          Meat Loaf                  Bat Out of Hell   \n",
       "5                             Eagles  Their Greatest Hits (1971–1975)   \n",
       "6         Bee Gees / Various artists             Saturday Night Fever   \n",
       "7                      Fleetwood Mac                          Rumours   \n",
       "\n",
       "   Released                        Genre  Certified sales (millions)  \\\n",
       "0      1982               Pop, rock, R&B                        45.4   \n",
       "1      1980                    Hard rock                        25.9   \n",
       "2      1973             Progressive rock                        22.7   \n",
       "3      1992    Soundtrack/R&B, soul, pop                        27.4   \n",
       "4      1977  Hard rock, progressive rock                        20.6   \n",
       "5      1976   Rock, soft rock, folk rock                        32.2   \n",
       "6      1977                        Disco                        19.0   \n",
       "7      1977                    Soft rock                        27.9   \n",
       "\n",
       "   Claimed sales (millions)  \n",
       "0                      65.0  \n",
       "1                      50.0  \n",
       "2                      45.0  \n",
       "3                      44.0  \n",
       "4                      43.0  \n",
       "5                      42.0  \n",
       "6                      40.0  \n",
       "7                      40.0  "
      ]
     },
     "execution_count": 33,
     "metadata": {},
     "output_type": "execute_result"
    }
   ],
   "source": [
    "# we can specify how much to show\n",
    "hit_albums.head(8)"
   ]
  },
  {
   "cell_type": "code",
   "execution_count": 34,
   "metadata": {},
   "outputs": [
    {
     "data": {
      "text/html": [
       "<div>\n",
       "<style scoped>\n",
       "    .dataframe tbody tr th:only-of-type {\n",
       "        vertical-align: middle;\n",
       "    }\n",
       "\n",
       "    .dataframe tbody tr th {\n",
       "        vertical-align: top;\n",
       "    }\n",
       "\n",
       "    .dataframe thead th {\n",
       "        text-align: right;\n",
       "    }\n",
       "</style>\n",
       "<table border=\"1\" class=\"dataframe\">\n",
       "  <thead>\n",
       "    <tr style=\"text-align: right;\">\n",
       "      <th></th>\n",
       "      <th>Artist</th>\n",
       "      <th>Album</th>\n",
       "      <th>Released</th>\n",
       "      <th>Genre</th>\n",
       "      <th>Certified sales (millions)</th>\n",
       "      <th>Claimed sales (millions)</th>\n",
       "    </tr>\n",
       "  </thead>\n",
       "  <tbody>\n",
       "    <tr>\n",
       "      <th>72</th>\n",
       "      <td>Tracy Chapman</td>\n",
       "      <td>Tracy Chapman</td>\n",
       "      <td>1988</td>\n",
       "      <td>Folk rock</td>\n",
       "      <td>20.0</td>\n",
       "      <td>NaN</td>\n",
       "    </tr>\n",
       "    <tr>\n",
       "      <th>73</th>\n",
       "      <td>Usher</td>\n",
       "      <td>Confessions</td>\n",
       "      <td>2004</td>\n",
       "      <td>R&amp;B</td>\n",
       "      <td>20.0</td>\n",
       "      <td>NaN</td>\n",
       "    </tr>\n",
       "    <tr>\n",
       "      <th>74</th>\n",
       "      <td>Various artists</td>\n",
       "      <td>Flashdance: Original Soundtrack from the Motio...</td>\n",
       "      <td>1983</td>\n",
       "      <td>Soundtrack</td>\n",
       "      <td>20.0</td>\n",
       "      <td>NaN</td>\n",
       "    </tr>\n",
       "    <tr>\n",
       "      <th>75</th>\n",
       "      <td>Whitney Houston</td>\n",
       "      <td>Whitney</td>\n",
       "      <td>1987</td>\n",
       "      <td>Pop, R&amp;B</td>\n",
       "      <td>20.0</td>\n",
       "      <td>NaN</td>\n",
       "    </tr>\n",
       "    <tr>\n",
       "      <th>76</th>\n",
       "      <td>Shakira</td>\n",
       "      <td>Laundry Service</td>\n",
       "      <td>2001</td>\n",
       "      <td>Pop, Rock</td>\n",
       "      <td>20.0</td>\n",
       "      <td>NaN</td>\n",
       "    </tr>\n",
       "  </tbody>\n",
       "</table>\n",
       "</div>"
      ],
      "text/plain": [
       "             Artist                                              Album  \\\n",
       "72    Tracy Chapman                                      Tracy Chapman   \n",
       "73            Usher                                        Confessions   \n",
       "74  Various artists  Flashdance: Original Soundtrack from the Motio...   \n",
       "75  Whitney Houston                                            Whitney   \n",
       "76          Shakira                                    Laundry Service   \n",
       "\n",
       "    Released       Genre  Certified sales (millions)  Claimed sales (millions)  \n",
       "72      1988   Folk rock                        20.0                       NaN  \n",
       "73      2004         R&B                        20.0                       NaN  \n",
       "74      1983  Soundtrack                        20.0                       NaN  \n",
       "75      1987    Pop, R&B                        20.0                       NaN  \n",
       "76      2001   Pop, Rock                        20.0                       NaN  "
      ]
     },
     "execution_count": 34,
     "metadata": {},
     "output_type": "execute_result"
    }
   ],
   "source": [
    "# tail shows the last five rows in a datasaet\n",
    "hit_albums.tail()"
   ]
  },
  {
   "cell_type": "markdown",
   "metadata": {},
   "source": [
    "We can check out the dimensions of the data frame:"
   ]
  },
  {
   "cell_type": "code",
   "execution_count": 35,
   "metadata": {},
   "outputs": [
    {
     "data": {
      "text/plain": [
       "(77, 6)"
      ]
     },
     "execution_count": 35,
     "metadata": {},
     "output_type": "execute_result"
    }
   ],
   "source": [
    "hit_albums.shape"
   ]
  },
  {
   "cell_type": "markdown",
   "metadata": {},
   "source": [
    "Here we learn that our dataset has 77 rows and 6 columns.\n",
    "\n",
    "We can also get more info about the dataset using the info method, which is especially helpful to see the data types of the columns:"
   ]
  },
  {
   "cell_type": "code",
   "execution_count": 36,
   "metadata": {},
   "outputs": [
    {
     "name": "stdout",
     "output_type": "stream",
     "text": [
      "<class 'pandas.core.frame.DataFrame'>\n",
      "RangeIndex: 77 entries, 0 to 76\n",
      "Data columns (total 6 columns):\n",
      " #   Column                      Non-Null Count  Dtype  \n",
      "---  ------                      --------------  -----  \n",
      " 0   Artist                      77 non-null     object \n",
      " 1   Album                       77 non-null     object \n",
      " 2   Released                    77 non-null     int64  \n",
      " 3   Genre                       77 non-null     object \n",
      " 4   Certified sales (millions)  77 non-null     float64\n",
      " 5   Claimed sales (millions)    31 non-null     float64\n",
      "dtypes: float64(2), int64(1), object(3)\n",
      "memory usage: 3.7+ KB\n"
     ]
    }
   ],
   "source": [
    "hit_albums.info()"
   ]
  },
  {
   "cell_type": "markdown",
   "metadata": {},
   "source": [
    "As for series, we can get a rough description of the numerical values of the dataset."
   ]
  },
  {
   "cell_type": "code",
   "execution_count": 37,
   "metadata": {},
   "outputs": [
    {
     "data": {
      "text/html": [
       "<div>\n",
       "<style scoped>\n",
       "    .dataframe tbody tr th:only-of-type {\n",
       "        vertical-align: middle;\n",
       "    }\n",
       "\n",
       "    .dataframe tbody tr th {\n",
       "        vertical-align: top;\n",
       "    }\n",
       "\n",
       "    .dataframe thead th {\n",
       "        text-align: right;\n",
       "    }\n",
       "</style>\n",
       "<table border=\"1\" class=\"dataframe\">\n",
       "  <thead>\n",
       "    <tr style=\"text-align: right;\">\n",
       "      <th></th>\n",
       "      <th>Released</th>\n",
       "      <th>Certified sales (millions)</th>\n",
       "      <th>Claimed sales (millions)</th>\n",
       "    </tr>\n",
       "  </thead>\n",
       "  <tbody>\n",
       "    <tr>\n",
       "      <th>count</th>\n",
       "      <td>77.000000</td>\n",
       "      <td>77.000000</td>\n",
       "      <td>31.000000</td>\n",
       "    </tr>\n",
       "    <tr>\n",
       "      <th>mean</th>\n",
       "      <td>1988.662338</td>\n",
       "      <td>22.409091</td>\n",
       "      <td>35.354839</td>\n",
       "    </tr>\n",
       "    <tr>\n",
       "      <th>std</th>\n",
       "      <td>9.949359</td>\n",
       "      <td>4.521620</td>\n",
       "      <td>7.855140</td>\n",
       "    </tr>\n",
       "    <tr>\n",
       "      <th>min</th>\n",
       "      <td>1967.000000</td>\n",
       "      <td>13.100000</td>\n",
       "      <td>30.000000</td>\n",
       "    </tr>\n",
       "    <tr>\n",
       "      <th>25%</th>\n",
       "      <td>1983.000000</td>\n",
       "      <td>20.000000</td>\n",
       "      <td>30.000000</td>\n",
       "    </tr>\n",
       "    <tr>\n",
       "      <th>50%</th>\n",
       "      <td>1987.000000</td>\n",
       "      <td>20.600000</td>\n",
       "      <td>32.000000</td>\n",
       "    </tr>\n",
       "    <tr>\n",
       "      <th>75%</th>\n",
       "      <td>1996.000000</td>\n",
       "      <td>25.000000</td>\n",
       "      <td>39.500000</td>\n",
       "    </tr>\n",
       "    <tr>\n",
       "      <th>max</th>\n",
       "      <td>2015.000000</td>\n",
       "      <td>45.400000</td>\n",
       "      <td>65.000000</td>\n",
       "    </tr>\n",
       "  </tbody>\n",
       "</table>\n",
       "</div>"
      ],
      "text/plain": [
       "          Released  Certified sales (millions)  Claimed sales (millions)\n",
       "count    77.000000                   77.000000                 31.000000\n",
       "mean   1988.662338                   22.409091                 35.354839\n",
       "std       9.949359                    4.521620                  7.855140\n",
       "min    1967.000000                   13.100000                 30.000000\n",
       "25%    1983.000000                   20.000000                 30.000000\n",
       "50%    1987.000000                   20.600000                 32.000000\n",
       "75%    1996.000000                   25.000000                 39.500000\n",
       "max    2015.000000                   45.400000                 65.000000"
      ]
     },
     "execution_count": 37,
     "metadata": {},
     "output_type": "execute_result"
    }
   ],
   "source": [
    "hit_albums.describe()"
   ]
  },
  {
   "cell_type": "markdown",
   "metadata": {},
   "source": [
    "We don't see any descriptions of the columns of non-numerical type. We can, however, get a summary by directly accessing a column:"
   ]
  },
  {
   "cell_type": "code",
   "execution_count": 38,
   "metadata": {},
   "outputs": [
    {
     "data": {
      "text/plain": [
       "count                  77\n",
       "unique                 56\n",
       "top       Michael Jackson\n",
       "freq                    5\n",
       "Name: Artist, dtype: object"
      ]
     },
     "execution_count": 38,
     "metadata": {},
     "output_type": "execute_result"
    }
   ],
   "source": [
    "hit_albums[\"Artist\"].describe()"
   ]
  },
  {
   "cell_type": "markdown",
   "metadata": {},
   "source": [
    "Here we can see that Michael Jackson is the top artist in this list, with five albums. Are there other artists with multiple albums in the list? We can answer that question with the value_counts() method:"
   ]
  },
  {
   "cell_type": "code",
   "execution_count": 39,
   "metadata": {},
   "outputs": [
    {
     "data": {
      "text/plain": [
       "Artist\n",
       "Michael Jackson                      5\n",
       "Madonna                              3\n",
       "Shania Twain                         3\n",
       "The Beatles                          3\n",
       "Various artists                      3\n",
       "Bon Jovi                             2\n",
       "Pink Floyd                           2\n",
       "Whitney Houston                      2\n",
       "Backstreet Boys                      2\n",
       "Eagles                               2\n",
       "Britney Spears                       2\n",
       "Celine Dion                          2\n",
       "Mariah Carey                         2\n",
       "Adele                                2\n",
       "Eminem                               1\n",
       "Oasis                                1\n",
       "Cyndi Lauper                         1\n",
       "Boston                               1\n",
       "TLC                                  1\n",
       "Ace of Base                          1\n",
       "Avril Lavigne                        1\n",
       "Green Day                            1\n",
       "Eric Clapton                         1\n",
       "Def Leppard                          1\n",
       "George Michael                       1\n",
       "Simon & Garfunkel                    1\n",
       "Lionel Richie                        1\n",
       "Prince & the Revolution              1\n",
       "Supertramp                           1\n",
       "Tina Turner                          1\n",
       "Tracy Chapman                        1\n",
       "Usher                                1\n",
       "U2                                   1\n",
       "Linkin Park                          1\n",
       "Queen                                1\n",
       "Phil Collins                         1\n",
       "Whitney Houston / Various artists    1\n",
       "Meat Loaf                            1\n",
       "Bee Gees / Various artists           1\n",
       "Fleetwood Mac                        1\n",
       "Led Zeppelin                         1\n",
       "Alanis Morissette                    1\n",
       "Bruce Springsteen                    1\n",
       "Dire Straits                         1\n",
       "James Horner                         1\n",
       "Metallica                            1\n",
       "Nirvana                              1\n",
       "Santana                              1\n",
       "Guns N' Roses                        1\n",
       "ABBA                                 1\n",
       "Spice Girls                          1\n",
       "AC/DC                                1\n",
       "Bob Marley & The Wailers             1\n",
       "Carole King                          1\n",
       "Norah Jones                          1\n",
       "Shakira                              1\n",
       "Name: count, dtype: int64"
      ]
     },
     "execution_count": 39,
     "metadata": {},
     "output_type": "execute_result"
    }
   ],
   "source": [
    "hit_albums[\"Artist\"].value_counts()"
   ]
  },
  {
   "cell_type": "markdown",
   "metadata": {},
   "source": [
    "We can look at whether the numerical columns in our data frame are correlated using the [`corr()`](http://pandas.pydata.org/pandas-docs/stable/generated/pandas.DataFrame.corr.html) method. By default, this calculates a Pearson correlation between the column, excluding NaN values. Not surprisingly, we see a rather strong correlation (0.81) between certified and claimed sales. "
   ]
  },
  {
   "cell_type": "code",
   "execution_count": 40,
   "metadata": {},
   "outputs": [
    {
     "data": {
      "text/html": [
       "<div>\n",
       "<style scoped>\n",
       "    .dataframe tbody tr th:only-of-type {\n",
       "        vertical-align: middle;\n",
       "    }\n",
       "\n",
       "    .dataframe tbody tr th {\n",
       "        vertical-align: top;\n",
       "    }\n",
       "\n",
       "    .dataframe thead th {\n",
       "        text-align: right;\n",
       "    }\n",
       "</style>\n",
       "<table border=\"1\" class=\"dataframe\">\n",
       "  <thead>\n",
       "    <tr style=\"text-align: right;\">\n",
       "      <th></th>\n",
       "      <th>Released</th>\n",
       "      <th>Certified sales (millions)</th>\n",
       "      <th>Claimed sales (millions)</th>\n",
       "    </tr>\n",
       "  </thead>\n",
       "  <tbody>\n",
       "    <tr>\n",
       "      <th>Released</th>\n",
       "      <td>1.000000</td>\n",
       "      <td>-0.052109</td>\n",
       "      <td>-0.320593</td>\n",
       "    </tr>\n",
       "    <tr>\n",
       "      <th>Certified sales (millions)</th>\n",
       "      <td>-0.052109</td>\n",
       "      <td>1.000000</td>\n",
       "      <td>0.810280</td>\n",
       "    </tr>\n",
       "    <tr>\n",
       "      <th>Claimed sales (millions)</th>\n",
       "      <td>-0.320593</td>\n",
       "      <td>0.810280</td>\n",
       "      <td>1.000000</td>\n",
       "    </tr>\n",
       "  </tbody>\n",
       "</table>\n",
       "</div>"
      ],
      "text/plain": [
       "                            Released  Certified sales (millions)  \\\n",
       "Released                    1.000000                   -0.052109   \n",
       "Certified sales (millions) -0.052109                    1.000000   \n",
       "Claimed sales (millions)   -0.320593                    0.810280   \n",
       "\n",
       "                            Claimed sales (millions)  \n",
       "Released                                   -0.320593  \n",
       "Certified sales (millions)                  0.810280  \n",
       "Claimed sales (millions)                    1.000000  "
      ]
     },
     "execution_count": 40,
     "metadata": {},
     "output_type": "execute_result"
    }
   ],
   "source": [
    "hit_albums.corr(numeric_only=True)"
   ]
  },
  {
   "cell_type": "markdown",
   "metadata": {},
   "source": [
    "We can also transpose a dataframe:"
   ]
  },
  {
   "cell_type": "code",
   "execution_count": 41,
   "metadata": {},
   "outputs": [
    {
     "data": {
      "text/html": [
       "<div>\n",
       "<style scoped>\n",
       "    .dataframe tbody tr th:only-of-type {\n",
       "        vertical-align: middle;\n",
       "    }\n",
       "\n",
       "    .dataframe tbody tr th {\n",
       "        vertical-align: top;\n",
       "    }\n",
       "\n",
       "    .dataframe thead th {\n",
       "        text-align: right;\n",
       "    }\n",
       "</style>\n",
       "<table border=\"1\" class=\"dataframe\">\n",
       "  <thead>\n",
       "    <tr style=\"text-align: right;\">\n",
       "      <th></th>\n",
       "      <th>0</th>\n",
       "      <th>1</th>\n",
       "      <th>2</th>\n",
       "      <th>3</th>\n",
       "      <th>4</th>\n",
       "      <th>5</th>\n",
       "      <th>6</th>\n",
       "      <th>7</th>\n",
       "      <th>8</th>\n",
       "      <th>9</th>\n",
       "      <th>...</th>\n",
       "      <th>67</th>\n",
       "      <th>68</th>\n",
       "      <th>69</th>\n",
       "      <th>70</th>\n",
       "      <th>71</th>\n",
       "      <th>72</th>\n",
       "      <th>73</th>\n",
       "      <th>74</th>\n",
       "      <th>75</th>\n",
       "      <th>76</th>\n",
       "    </tr>\n",
       "  </thead>\n",
       "  <tbody>\n",
       "    <tr>\n",
       "      <th>Artist</th>\n",
       "      <td>Michael Jackson</td>\n",
       "      <td>AC/DC</td>\n",
       "      <td>Pink Floyd</td>\n",
       "      <td>Whitney Houston / Various artists</td>\n",
       "      <td>Meat Loaf</td>\n",
       "      <td>Eagles</td>\n",
       "      <td>Bee Gees / Various artists</td>\n",
       "      <td>Fleetwood Mac</td>\n",
       "      <td>Shania Twain</td>\n",
       "      <td>Led Zeppelin</td>\n",
       "      <td>...</td>\n",
       "      <td>Prince &amp; the Revolution</td>\n",
       "      <td>Shania Twain</td>\n",
       "      <td>Shania Twain</td>\n",
       "      <td>Supertramp</td>\n",
       "      <td>Tina Turner</td>\n",
       "      <td>Tracy Chapman</td>\n",
       "      <td>Usher</td>\n",
       "      <td>Various artists</td>\n",
       "      <td>Whitney Houston</td>\n",
       "      <td>Shakira</td>\n",
       "    </tr>\n",
       "    <tr>\n",
       "      <th>Album</th>\n",
       "      <td>Thriller</td>\n",
       "      <td>Back in Black</td>\n",
       "      <td>The Dark Side of the Moon</td>\n",
       "      <td>The Bodyguard</td>\n",
       "      <td>Bat Out of Hell</td>\n",
       "      <td>Their Greatest Hits (1971–1975)</td>\n",
       "      <td>Saturday Night Fever</td>\n",
       "      <td>Rumours</td>\n",
       "      <td>Come On Over</td>\n",
       "      <td>Led Zeppelin IV</td>\n",
       "      <td>...</td>\n",
       "      <td>Purple Rain</td>\n",
       "      <td>The Woman in Me</td>\n",
       "      <td>Up!</td>\n",
       "      <td>Breakfast in America</td>\n",
       "      <td>Private Dancer</td>\n",
       "      <td>Tracy Chapman</td>\n",
       "      <td>Confessions</td>\n",
       "      <td>Flashdance: Original Soundtrack from the Motio...</td>\n",
       "      <td>Whitney</td>\n",
       "      <td>Laundry Service</td>\n",
       "    </tr>\n",
       "    <tr>\n",
       "      <th>Released</th>\n",
       "      <td>1982</td>\n",
       "      <td>1980</td>\n",
       "      <td>1973</td>\n",
       "      <td>1992</td>\n",
       "      <td>1977</td>\n",
       "      <td>1976</td>\n",
       "      <td>1977</td>\n",
       "      <td>1977</td>\n",
       "      <td>1997</td>\n",
       "      <td>1971</td>\n",
       "      <td>...</td>\n",
       "      <td>1984</td>\n",
       "      <td>1995</td>\n",
       "      <td>2002</td>\n",
       "      <td>1979</td>\n",
       "      <td>1984</td>\n",
       "      <td>1988</td>\n",
       "      <td>2004</td>\n",
       "      <td>1983</td>\n",
       "      <td>1987</td>\n",
       "      <td>2001</td>\n",
       "    </tr>\n",
       "    <tr>\n",
       "      <th>Genre</th>\n",
       "      <td>Pop, rock, R&amp;B</td>\n",
       "      <td>Hard rock</td>\n",
       "      <td>Progressive rock</td>\n",
       "      <td>Soundtrack/R&amp;B, soul, pop</td>\n",
       "      <td>Hard rock, progressive rock</td>\n",
       "      <td>Rock, soft rock, folk rock</td>\n",
       "      <td>Disco</td>\n",
       "      <td>Soft rock</td>\n",
       "      <td>Country, pop</td>\n",
       "      <td>Hard rock, heavy metal</td>\n",
       "      <td>...</td>\n",
       "      <td>Pop, rock, R&amp;B</td>\n",
       "      <td>Country, pop</td>\n",
       "      <td>Country, pop, world music</td>\n",
       "      <td>Progressive rock, art rock</td>\n",
       "      <td>Pop, rock, R&amp;B</td>\n",
       "      <td>Folk rock</td>\n",
       "      <td>R&amp;B</td>\n",
       "      <td>Soundtrack</td>\n",
       "      <td>Pop, R&amp;B</td>\n",
       "      <td>Pop, Rock</td>\n",
       "    </tr>\n",
       "    <tr>\n",
       "      <th>Certified sales (millions)</th>\n",
       "      <td>45.4</td>\n",
       "      <td>25.9</td>\n",
       "      <td>22.7</td>\n",
       "      <td>27.4</td>\n",
       "      <td>20.6</td>\n",
       "      <td>32.2</td>\n",
       "      <td>19.0</td>\n",
       "      <td>27.9</td>\n",
       "      <td>29.6</td>\n",
       "      <td>29.0</td>\n",
       "      <td>...</td>\n",
       "      <td>20.0</td>\n",
       "      <td>20.0</td>\n",
       "      <td>20.0</td>\n",
       "      <td>20.0</td>\n",
       "      <td>20.0</td>\n",
       "      <td>20.0</td>\n",
       "      <td>20.0</td>\n",
       "      <td>20.0</td>\n",
       "      <td>20.0</td>\n",
       "      <td>20.0</td>\n",
       "    </tr>\n",
       "    <tr>\n",
       "      <th>Claimed sales (millions)</th>\n",
       "      <td>65.0</td>\n",
       "      <td>50.0</td>\n",
       "      <td>45.0</td>\n",
       "      <td>44.0</td>\n",
       "      <td>43.0</td>\n",
       "      <td>42.0</td>\n",
       "      <td>40.0</td>\n",
       "      <td>40.0</td>\n",
       "      <td>39.0</td>\n",
       "      <td>37.0</td>\n",
       "      <td>...</td>\n",
       "      <td>NaN</td>\n",
       "      <td>NaN</td>\n",
       "      <td>NaN</td>\n",
       "      <td>NaN</td>\n",
       "      <td>NaN</td>\n",
       "      <td>NaN</td>\n",
       "      <td>NaN</td>\n",
       "      <td>NaN</td>\n",
       "      <td>NaN</td>\n",
       "      <td>NaN</td>\n",
       "    </tr>\n",
       "  </tbody>\n",
       "</table>\n",
       "<p>6 rows × 77 columns</p>\n",
       "</div>"
      ],
      "text/plain": [
       "                                         0              1   \\\n",
       "Artist                      Michael Jackson          AC/DC   \n",
       "Album                              Thriller  Back in Black   \n",
       "Released                               1982           1980   \n",
       "Genre                        Pop, rock, R&B      Hard rock   \n",
       "Certified sales (millions)             45.4           25.9   \n",
       "Claimed sales (millions)               65.0           50.0   \n",
       "\n",
       "                                                   2   \\\n",
       "Artist                                     Pink Floyd   \n",
       "Album                       The Dark Side of the Moon   \n",
       "Released                                         1973   \n",
       "Genre                                Progressive rock   \n",
       "Certified sales (millions)                       22.7   \n",
       "Claimed sales (millions)                         45.0   \n",
       "\n",
       "                                                           3   \\\n",
       "Artist                      Whitney Houston / Various artists   \n",
       "Album                                           The Bodyguard   \n",
       "Released                                                 1992   \n",
       "Genre                               Soundtrack/R&B, soul, pop   \n",
       "Certified sales (millions)                               27.4   \n",
       "Claimed sales (millions)                                 44.0   \n",
       "\n",
       "                                                     4   \\\n",
       "Artist                                        Meat Loaf   \n",
       "Album                                   Bat Out of Hell   \n",
       "Released                                           1977   \n",
       "Genre                       Hard rock, progressive rock   \n",
       "Certified sales (millions)                         20.6   \n",
       "Claimed sales (millions)                           43.0   \n",
       "\n",
       "                                                         5   \\\n",
       "Artist                                               Eagles   \n",
       "Album                       Their Greatest Hits (1971–1975)   \n",
       "Released                                               1976   \n",
       "Genre                            Rock, soft rock, folk rock   \n",
       "Certified sales (millions)                             32.2   \n",
       "Claimed sales (millions)                               42.0   \n",
       "\n",
       "                                                    6              7   \\\n",
       "Artist                      Bee Gees / Various artists  Fleetwood Mac   \n",
       "Album                             Saturday Night Fever        Rumours   \n",
       "Released                                          1977           1977   \n",
       "Genre                                            Disco      Soft rock   \n",
       "Certified sales (millions)                        19.0           27.9   \n",
       "Claimed sales (millions)                          40.0           40.0   \n",
       "\n",
       "                                      8                       9   ...  \\\n",
       "Artist                      Shania Twain            Led Zeppelin  ...   \n",
       "Album                       Come On Over         Led Zeppelin IV  ...   \n",
       "Released                            1997                    1971  ...   \n",
       "Genre                       Country, pop  Hard rock, heavy metal  ...   \n",
       "Certified sales (millions)          29.6                    29.0  ...   \n",
       "Claimed sales (millions)            39.0                    37.0  ...   \n",
       "\n",
       "                                                 67               68  \\\n",
       "Artist                      Prince & the Revolution     Shania Twain   \n",
       "Album                                   Purple Rain  The Woman in Me   \n",
       "Released                                       1984             1995   \n",
       "Genre                                Pop, rock, R&B     Country, pop   \n",
       "Certified sales (millions)                     20.0             20.0   \n",
       "Claimed sales (millions)                        NaN              NaN   \n",
       "\n",
       "                                                   69  \\\n",
       "Artist                                   Shania Twain   \n",
       "Album                                             Up!   \n",
       "Released                                         2002   \n",
       "Genre                       Country, pop, world music   \n",
       "Certified sales (millions)                       20.0   \n",
       "Claimed sales (millions)                          NaN   \n",
       "\n",
       "                                                    70              71  \\\n",
       "Artist                                      Supertramp     Tina Turner   \n",
       "Album                             Breakfast in America  Private Dancer   \n",
       "Released                                          1979            1984   \n",
       "Genre                       Progressive rock, art rock  Pop, rock, R&B   \n",
       "Certified sales (millions)                        20.0            20.0   \n",
       "Claimed sales (millions)                           NaN             NaN   \n",
       "\n",
       "                                       72           73  \\\n",
       "Artist                      Tracy Chapman        Usher   \n",
       "Album                       Tracy Chapman  Confessions   \n",
       "Released                             1988         2004   \n",
       "Genre                           Folk rock          R&B   \n",
       "Certified sales (millions)           20.0         20.0   \n",
       "Claimed sales (millions)              NaN          NaN   \n",
       "\n",
       "                                                                           74  \\\n",
       "Artist                                                        Various artists   \n",
       "Album                       Flashdance: Original Soundtrack from the Motio...   \n",
       "Released                                                                 1983   \n",
       "Genre                                                              Soundtrack   \n",
       "Certified sales (millions)                                               20.0   \n",
       "Claimed sales (millions)                                                  NaN   \n",
       "\n",
       "                                         75               76  \n",
       "Artist                      Whitney Houston          Shakira  \n",
       "Album                               Whitney  Laundry Service  \n",
       "Released                               1987             2001  \n",
       "Genre                              Pop, R&B        Pop, Rock  \n",
       "Certified sales (millions)             20.0             20.0  \n",
       "Claimed sales (millions)                NaN              NaN  \n",
       "\n",
       "[6 rows x 77 columns]"
      ]
     },
     "execution_count": 41,
     "metadata": {},
     "output_type": "execute_result"
    }
   ],
   "source": [
    "hit_albums.T"
   ]
  },
  {
   "cell_type": "markdown",
   "metadata": {},
   "source": [
    "### Slicing Data Frames\n",
    "\n",
    "A common task is to create subsets of a dataframe. Check out the official [user guide for more info on this](https://pandas.pydata.org/pandas-docs/stable/user_guide/indexing.html).  \n",
    "\n",
    "Column access/slicing works by directly using brackets `[]` on the data frame. Row access/slicing works by using the `.loc[]` indexer. \n",
    "\n",
    "We can explicitly define the the **column(s)** we want by their lables:"
   ]
  },
  {
   "cell_type": "code",
   "execution_count": 42,
   "metadata": {},
   "outputs": [
    {
     "data": {
      "text/plain": [
       "0                      Michael Jackson\n",
       "1                                AC/DC\n",
       "2                           Pink Floyd\n",
       "3    Whitney Houston / Various artists\n",
       "4                            Meat Loaf\n",
       "Name: Artist, dtype: object"
      ]
     },
     "execution_count": 42,
     "metadata": {},
     "output_type": "execute_result"
    }
   ],
   "source": [
    "# a single column\n",
    "hit_albums[\"Artist\"].head()"
   ]
  },
  {
   "cell_type": "markdown",
   "metadata": {},
   "source": [
    "We can use an array of lables if we want multiple columns. "
   ]
  },
  {
   "cell_type": "code",
   "execution_count": 43,
   "metadata": {},
   "outputs": [
    {
     "data": {
      "text/html": [
       "<div>\n",
       "<style scoped>\n",
       "    .dataframe tbody tr th:only-of-type {\n",
       "        vertical-align: middle;\n",
       "    }\n",
       "\n",
       "    .dataframe tbody tr th {\n",
       "        vertical-align: top;\n",
       "    }\n",
       "\n",
       "    .dataframe thead th {\n",
       "        text-align: right;\n",
       "    }\n",
       "</style>\n",
       "<table border=\"1\" class=\"dataframe\">\n",
       "  <thead>\n",
       "    <tr style=\"text-align: right;\">\n",
       "      <th></th>\n",
       "      <th>Artist</th>\n",
       "      <th>Certified sales (millions)</th>\n",
       "      <th>Claimed sales (millions)</th>\n",
       "    </tr>\n",
       "  </thead>\n",
       "  <tbody>\n",
       "    <tr>\n",
       "      <th>0</th>\n",
       "      <td>Michael Jackson</td>\n",
       "      <td>45.4</td>\n",
       "      <td>65.0</td>\n",
       "    </tr>\n",
       "    <tr>\n",
       "      <th>1</th>\n",
       "      <td>AC/DC</td>\n",
       "      <td>25.9</td>\n",
       "      <td>50.0</td>\n",
       "    </tr>\n",
       "    <tr>\n",
       "      <th>2</th>\n",
       "      <td>Pink Floyd</td>\n",
       "      <td>22.7</td>\n",
       "      <td>45.0</td>\n",
       "    </tr>\n",
       "    <tr>\n",
       "      <th>3</th>\n",
       "      <td>Whitney Houston / Various artists</td>\n",
       "      <td>27.4</td>\n",
       "      <td>44.0</td>\n",
       "    </tr>\n",
       "    <tr>\n",
       "      <th>4</th>\n",
       "      <td>Meat Loaf</td>\n",
       "      <td>20.6</td>\n",
       "      <td>43.0</td>\n",
       "    </tr>\n",
       "  </tbody>\n",
       "</table>\n",
       "</div>"
      ],
      "text/plain": [
       "                              Artist  Certified sales (millions)  \\\n",
       "0                    Michael Jackson                        45.4   \n",
       "1                              AC/DC                        25.9   \n",
       "2                         Pink Floyd                        22.7   \n",
       "3  Whitney Houston / Various artists                        27.4   \n",
       "4                          Meat Loaf                        20.6   \n",
       "\n",
       "   Claimed sales (millions)  \n",
       "0                      65.0  \n",
       "1                      50.0  \n",
       "2                      45.0  \n",
       "3                      44.0  \n",
       "4                      43.0  "
      ]
     },
     "execution_count": 43,
     "metadata": {},
     "output_type": "execute_result"
    }
   ],
   "source": [
    "# specifying multiple columns in an array\n",
    "hit_albums = hit_albums[[\"Artist\",\"Certified sales (millions)\", \"Claimed sales (millions)\"]]\n",
    "hit_albums.head()"
   ]
  },
  {
   "cell_type": "markdown",
   "metadata": {},
   "source": [
    "Slicing of columns requires the `iloc` operator\n",
    "\n",
    "This: \n",
    "```python\n",
    "hit_albums[\"Artist\":\"Genre\"]\n",
    "```\n",
    "Doesn't work."
   ]
  },
  {
   "cell_type": "markdown",
   "metadata": {},
   "source": [
    "One break with the convention that rows have to be accessed via `loc` or `iloc` is simple numerical slicing. The documentation claims that's for convenience, since this is so common: "
   ]
  },
  {
   "cell_type": "code",
   "execution_count": 44,
   "metadata": {},
   "outputs": [
    {
     "data": {
      "text/html": [
       "<div>\n",
       "<style scoped>\n",
       "    .dataframe tbody tr th:only-of-type {\n",
       "        vertical-align: middle;\n",
       "    }\n",
       "\n",
       "    .dataframe tbody tr th {\n",
       "        vertical-align: top;\n",
       "    }\n",
       "\n",
       "    .dataframe thead th {\n",
       "        text-align: right;\n",
       "    }\n",
       "</style>\n",
       "<table border=\"1\" class=\"dataframe\">\n",
       "  <thead>\n",
       "    <tr style=\"text-align: right;\">\n",
       "      <th></th>\n",
       "      <th>Artist</th>\n",
       "      <th>Certified sales (millions)</th>\n",
       "      <th>Claimed sales (millions)</th>\n",
       "    </tr>\n",
       "  </thead>\n",
       "  <tbody>\n",
       "    <tr>\n",
       "      <th>0</th>\n",
       "      <td>Michael Jackson</td>\n",
       "      <td>45.4</td>\n",
       "      <td>65.0</td>\n",
       "    </tr>\n",
       "    <tr>\n",
       "      <th>1</th>\n",
       "      <td>AC/DC</td>\n",
       "      <td>25.9</td>\n",
       "      <td>50.0</td>\n",
       "    </tr>\n",
       "    <tr>\n",
       "      <th>2</th>\n",
       "      <td>Pink Floyd</td>\n",
       "      <td>22.7</td>\n",
       "      <td>45.0</td>\n",
       "    </tr>\n",
       "  </tbody>\n",
       "</table>\n",
       "</div>"
      ],
      "text/plain": [
       "            Artist  Certified sales (millions)  Claimed sales (millions)\n",
       "0  Michael Jackson                        45.4                      65.0\n",
       "1            AC/DC                        25.9                      50.0\n",
       "2       Pink Floyd                        22.7                      45.0"
      ]
     },
     "execution_count": 44,
     "metadata": {},
     "output_type": "execute_result"
    }
   ],
   "source": [
    "hit_albums[:3]"
   ]
  },
  {
   "cell_type": "markdown",
   "metadata": {},
   "source": [
    "Using these access methods we can also update the order of columns: "
   ]
  },
  {
   "cell_type": "code",
   "execution_count": 45,
   "metadata": {},
   "outputs": [
    {
     "data": {
      "text/html": [
       "<div>\n",
       "<style scoped>\n",
       "    .dataframe tbody tr th:only-of-type {\n",
       "        vertical-align: middle;\n",
       "    }\n",
       "\n",
       "    .dataframe tbody tr th {\n",
       "        vertical-align: top;\n",
       "    }\n",
       "\n",
       "    .dataframe thead th {\n",
       "        text-align: right;\n",
       "    }\n",
       "</style>\n",
       "<table border=\"1\" class=\"dataframe\">\n",
       "  <thead>\n",
       "    <tr style=\"text-align: right;\">\n",
       "      <th></th>\n",
       "      <th>Certified sales (millions)</th>\n",
       "      <th>Claimed sales (millions)</th>\n",
       "      <th>Artist</th>\n",
       "    </tr>\n",
       "  </thead>\n",
       "  <tbody>\n",
       "    <tr>\n",
       "      <th>0</th>\n",
       "      <td>45.4</td>\n",
       "      <td>65.0</td>\n",
       "      <td>Michael Jackson</td>\n",
       "    </tr>\n",
       "    <tr>\n",
       "      <th>1</th>\n",
       "      <td>25.9</td>\n",
       "      <td>50.0</td>\n",
       "      <td>AC/DC</td>\n",
       "    </tr>\n",
       "    <tr>\n",
       "      <th>2</th>\n",
       "      <td>22.7</td>\n",
       "      <td>45.0</td>\n",
       "      <td>Pink Floyd</td>\n",
       "    </tr>\n",
       "    <tr>\n",
       "      <th>3</th>\n",
       "      <td>27.4</td>\n",
       "      <td>44.0</td>\n",
       "      <td>Whitney Houston / Various artists</td>\n",
       "    </tr>\n",
       "    <tr>\n",
       "      <th>4</th>\n",
       "      <td>20.6</td>\n",
       "      <td>43.0</td>\n",
       "      <td>Meat Loaf</td>\n",
       "    </tr>\n",
       "  </tbody>\n",
       "</table>\n",
       "</div>"
      ],
      "text/plain": [
       "   Certified sales (millions)  Claimed sales (millions)  \\\n",
       "0                        45.4                      65.0   \n",
       "1                        25.9                      50.0   \n",
       "2                        22.7                      45.0   \n",
       "3                        27.4                      44.0   \n",
       "4                        20.6                      43.0   \n",
       "\n",
       "                              Artist  \n",
       "0                    Michael Jackson  \n",
       "1                              AC/DC  \n",
       "2                         Pink Floyd  \n",
       "3  Whitney Houston / Various artists  \n",
       "4                          Meat Loaf  "
      ]
     },
     "execution_count": 45,
     "metadata": {},
     "output_type": "execute_result"
    }
   ],
   "source": [
    "hit_albums[[\"Certified sales (millions)\", \"Claimed sales (millions)\", \"Artist\"]].head()"
   ]
  },
  {
   "cell_type": "markdown",
   "metadata": {},
   "source": [
    "We can set a column to be the index:"
   ]
  },
  {
   "cell_type": "code",
   "execution_count": 46,
   "metadata": {},
   "outputs": [
    {
     "data": {
      "text/html": [
       "<div>\n",
       "<style scoped>\n",
       "    .dataframe tbody tr th:only-of-type {\n",
       "        vertical-align: middle;\n",
       "    }\n",
       "\n",
       "    .dataframe tbody tr th {\n",
       "        vertical-align: top;\n",
       "    }\n",
       "\n",
       "    .dataframe thead th {\n",
       "        text-align: right;\n",
       "    }\n",
       "</style>\n",
       "<table border=\"1\" class=\"dataframe\">\n",
       "  <thead>\n",
       "    <tr style=\"text-align: right;\">\n",
       "      <th></th>\n",
       "      <th>Certified sales (millions)</th>\n",
       "      <th>Claimed sales (millions)</th>\n",
       "    </tr>\n",
       "    <tr>\n",
       "      <th>Artist</th>\n",
       "      <th></th>\n",
       "      <th></th>\n",
       "    </tr>\n",
       "  </thead>\n",
       "  <tbody>\n",
       "    <tr>\n",
       "      <th>Michael Jackson</th>\n",
       "      <td>45.4</td>\n",
       "      <td>65.0</td>\n",
       "    </tr>\n",
       "    <tr>\n",
       "      <th>AC/DC</th>\n",
       "      <td>25.9</td>\n",
       "      <td>50.0</td>\n",
       "    </tr>\n",
       "    <tr>\n",
       "      <th>Pink Floyd</th>\n",
       "      <td>22.7</td>\n",
       "      <td>45.0</td>\n",
       "    </tr>\n",
       "    <tr>\n",
       "      <th>Whitney Houston / Various artists</th>\n",
       "      <td>27.4</td>\n",
       "      <td>44.0</td>\n",
       "    </tr>\n",
       "    <tr>\n",
       "      <th>Meat Loaf</th>\n",
       "      <td>20.6</td>\n",
       "      <td>43.0</td>\n",
       "    </tr>\n",
       "  </tbody>\n",
       "</table>\n",
       "</div>"
      ],
      "text/plain": [
       "                                   Certified sales (millions)  \\\n",
       "Artist                                                          \n",
       "Michael Jackson                                          45.4   \n",
       "AC/DC                                                    25.9   \n",
       "Pink Floyd                                               22.7   \n",
       "Whitney Houston / Various artists                        27.4   \n",
       "Meat Loaf                                                20.6   \n",
       "\n",
       "                                   Claimed sales (millions)  \n",
       "Artist                                                       \n",
       "Michael Jackson                                        65.0  \n",
       "AC/DC                                                  50.0  \n",
       "Pink Floyd                                             45.0  \n",
       "Whitney Houston / Various artists                      44.0  \n",
       "Meat Loaf                                              43.0  "
      ]
     },
     "execution_count": 46,
     "metadata": {},
     "output_type": "execute_result"
    }
   ],
   "source": [
    "hit_albums_reindexed = hit_albums.set_index(\"Artist\")\n",
    "hit_albums_reindexed.head()"
   ]
  },
  {
   "cell_type": "markdown",
   "metadata": {},
   "source": [
    "#### Slicing with `loc`\n",
    "\n",
    "We can retrieve **rows** and columns using the `loc` indexer by name. Depending on whether the label is unique or not, we get either a series or a data frame. \n",
    "\n",
    "Generally, `loc` is preferred over direct access via brackets. \n",
    "\n",
    "The general syntax is\n",
    "\n",
    "```\n",
    "df.loc[rows, columnns]\n",
    "```\n",
    "Here rows, columns can be explicit labels, lists of labels, or slicing operators. \n",
    "\n",
    "Here's a simple example: "
   ]
  },
  {
   "cell_type": "code",
   "execution_count": 47,
   "metadata": {},
   "outputs": [
    {
     "data": {
      "text/plain": [
       "Certified sales (millions)    20.6\n",
       "Claimed sales (millions)      43.0\n",
       "Name: Meat Loaf, dtype: float64"
      ]
     },
     "execution_count": 47,
     "metadata": {},
     "output_type": "execute_result"
    }
   ],
   "source": [
    "hit_albums_reindexed.loc[\"Meat Loaf\"]"
   ]
  },
  {
   "cell_type": "markdown",
   "metadata": {},
   "source": [
    "And an example with multiple keys that returns a data frame: "
   ]
  },
  {
   "cell_type": "code",
   "execution_count": 48,
   "metadata": {},
   "outputs": [
    {
     "data": {
      "text/html": [
       "<div>\n",
       "<style scoped>\n",
       "    .dataframe tbody tr th:only-of-type {\n",
       "        vertical-align: middle;\n",
       "    }\n",
       "\n",
       "    .dataframe tbody tr th {\n",
       "        vertical-align: top;\n",
       "    }\n",
       "\n",
       "    .dataframe thead th {\n",
       "        text-align: right;\n",
       "    }\n",
       "</style>\n",
       "<table border=\"1\" class=\"dataframe\">\n",
       "  <thead>\n",
       "    <tr style=\"text-align: right;\">\n",
       "      <th></th>\n",
       "      <th>Certified sales (millions)</th>\n",
       "      <th>Claimed sales (millions)</th>\n",
       "    </tr>\n",
       "    <tr>\n",
       "      <th>Artist</th>\n",
       "      <th></th>\n",
       "      <th></th>\n",
       "    </tr>\n",
       "  </thead>\n",
       "  <tbody>\n",
       "    <tr>\n",
       "      <th>Michael Jackson</th>\n",
       "      <td>45.4</td>\n",
       "      <td>65.0</td>\n",
       "    </tr>\n",
       "    <tr>\n",
       "      <th>Michael Jackson</th>\n",
       "      <td>20.3</td>\n",
       "      <td>34.0</td>\n",
       "    </tr>\n",
       "    <tr>\n",
       "      <th>Michael Jackson</th>\n",
       "      <td>17.6</td>\n",
       "      <td>32.0</td>\n",
       "    </tr>\n",
       "    <tr>\n",
       "      <th>Michael Jackson</th>\n",
       "      <td>20.0</td>\n",
       "      <td>NaN</td>\n",
       "    </tr>\n",
       "    <tr>\n",
       "      <th>Michael Jackson</th>\n",
       "      <td>20.0</td>\n",
       "      <td>NaN</td>\n",
       "    </tr>\n",
       "  </tbody>\n",
       "</table>\n",
       "</div>"
      ],
      "text/plain": [
       "                 Certified sales (millions)  Claimed sales (millions)\n",
       "Artist                                                               \n",
       "Michael Jackson                        45.4                      65.0\n",
       "Michael Jackson                        20.3                      34.0\n",
       "Michael Jackson                        17.6                      32.0\n",
       "Michael Jackson                        20.0                       NaN\n",
       "Michael Jackson                        20.0                       NaN"
      ]
     },
     "execution_count": 48,
     "metadata": {},
     "output_type": "execute_result"
    }
   ],
   "source": [
    "hit_albums_reindexed.loc[\"Michael Jackson\"]"
   ]
  },
  {
   "cell_type": "markdown",
   "metadata": {},
   "source": [
    "The second argument in the `loc` array can be used to access columns "
   ]
  },
  {
   "cell_type": "code",
   "execution_count": 49,
   "metadata": {},
   "outputs": [
    {
     "data": {
      "text/plain": [
       "Artist\n",
       "Michael Jackson    45.4\n",
       "Michael Jackson    20.3\n",
       "Michael Jackson    17.6\n",
       "Michael Jackson    20.0\n",
       "Michael Jackson    20.0\n",
       "Name: Certified sales (millions), dtype: float64"
      ]
     },
     "execution_count": 49,
     "metadata": {},
     "output_type": "execute_result"
    }
   ],
   "source": [
    "hit_albums_reindexed.loc[\"Michael Jackson\", \"Certified sales (millions)\"]"
   ]
  },
  {
   "cell_type": "markdown",
   "metadata": {},
   "source": [
    "Here is an example with a list of row labels. "
   ]
  },
  {
   "cell_type": "code",
   "execution_count": 50,
   "metadata": {},
   "outputs": [
    {
     "data": {
      "text/plain": [
       "Artist\n",
       "Michael Jackson    45.4\n",
       "Michael Jackson    20.3\n",
       "Michael Jackson    17.6\n",
       "Michael Jackson    20.0\n",
       "Michael Jackson    20.0\n",
       "Meat Loaf          20.6\n",
       "Name: Certified sales (millions), dtype: float64"
      ]
     },
     "execution_count": 50,
     "metadata": {},
     "output_type": "execute_result"
    }
   ],
   "source": [
    "hit_albums_reindexed.loc[[\"Michael Jackson\", \"Meat Loaf\"], \"Certified sales (millions)\"]"
   ]
  },
  {
   "cell_type": "markdown",
   "metadata": {},
   "source": [
    "We can use slice operations. Remember, that slicing by label (`loc`) includes the last value, by index (`iloc`) does not. \n",
    "\n",
    "\n",
    "Note that this doesn't work if we use labels that have duplicates as indexers. "
   ]
  },
  {
   "cell_type": "code",
   "execution_count": 51,
   "metadata": {},
   "outputs": [
    {
     "data": {
      "text/html": [
       "<div>\n",
       "<style scoped>\n",
       "    .dataframe tbody tr th:only-of-type {\n",
       "        vertical-align: middle;\n",
       "    }\n",
       "\n",
       "    .dataframe tbody tr th {\n",
       "        vertical-align: top;\n",
       "    }\n",
       "\n",
       "    .dataframe thead th {\n",
       "        text-align: right;\n",
       "    }\n",
       "</style>\n",
       "<table border=\"1\" class=\"dataframe\">\n",
       "  <thead>\n",
       "    <tr style=\"text-align: right;\">\n",
       "      <th></th>\n",
       "      <th>Certified sales (millions)</th>\n",
       "      <th>Claimed sales (millions)</th>\n",
       "    </tr>\n",
       "    <tr>\n",
       "      <th>Artist</th>\n",
       "      <th></th>\n",
       "      <th></th>\n",
       "    </tr>\n",
       "  </thead>\n",
       "  <tbody>\n",
       "    <tr>\n",
       "      <th>Green Day</th>\n",
       "      <td>20.0</td>\n",
       "      <td>NaN</td>\n",
       "    </tr>\n",
       "    <tr>\n",
       "      <th>Lionel Richie</th>\n",
       "      <td>20.0</td>\n",
       "      <td>NaN</td>\n",
       "    </tr>\n",
       "    <tr>\n",
       "      <th>Michael Jackson</th>\n",
       "      <td>20.0</td>\n",
       "      <td>NaN</td>\n",
       "    </tr>\n",
       "    <tr>\n",
       "      <th>Michael Jackson</th>\n",
       "      <td>20.0</td>\n",
       "      <td>NaN</td>\n",
       "    </tr>\n",
       "    <tr>\n",
       "      <th>Prince &amp; the Revolution</th>\n",
       "      <td>20.0</td>\n",
       "      <td>NaN</td>\n",
       "    </tr>\n",
       "    <tr>\n",
       "      <th>Shania Twain</th>\n",
       "      <td>20.0</td>\n",
       "      <td>NaN</td>\n",
       "    </tr>\n",
       "    <tr>\n",
       "      <th>Shania Twain</th>\n",
       "      <td>20.0</td>\n",
       "      <td>NaN</td>\n",
       "    </tr>\n",
       "    <tr>\n",
       "      <th>Supertramp</th>\n",
       "      <td>20.0</td>\n",
       "      <td>NaN</td>\n",
       "    </tr>\n",
       "  </tbody>\n",
       "</table>\n",
       "</div>"
      ],
      "text/plain": [
       "                         Certified sales (millions)  Claimed sales (millions)\n",
       "Artist                                                                       \n",
       "Green Day                                      20.0                       NaN\n",
       "Lionel Richie                                  20.0                       NaN\n",
       "Michael Jackson                                20.0                       NaN\n",
       "Michael Jackson                                20.0                       NaN\n",
       "Prince & the Revolution                        20.0                       NaN\n",
       "Shania Twain                                   20.0                       NaN\n",
       "Shania Twain                                   20.0                       NaN\n",
       "Supertramp                                     20.0                       NaN"
      ]
     },
     "execution_count": 51,
     "metadata": {},
     "output_type": "execute_result"
    }
   ],
   "source": [
    "hit_albums_reindexed.loc[\"Green Day\":\"Supertramp\"]\n",
    "\n",
    "# this wouldn't work\n",
    "# hit_albums_reindexed.loc[\"Green Day\":\"Michael Jackson\"]"
   ]
  },
  {
   "cell_type": "markdown",
   "metadata": {},
   "source": [
    "This can also be combined with slicing columns: "
   ]
  },
  {
   "cell_type": "code",
   "execution_count": 52,
   "metadata": {},
   "outputs": [
    {
     "data": {
      "text/html": [
       "<div>\n",
       "<style scoped>\n",
       "    .dataframe tbody tr th:only-of-type {\n",
       "        vertical-align: middle;\n",
       "    }\n",
       "\n",
       "    .dataframe tbody tr th {\n",
       "        vertical-align: top;\n",
       "    }\n",
       "\n",
       "    .dataframe thead th {\n",
       "        text-align: right;\n",
       "    }\n",
       "</style>\n",
       "<table border=\"1\" class=\"dataframe\">\n",
       "  <thead>\n",
       "    <tr style=\"text-align: right;\">\n",
       "      <th></th>\n",
       "      <th>Certified sales (millions)</th>\n",
       "    </tr>\n",
       "    <tr>\n",
       "      <th>Artist</th>\n",
       "      <th></th>\n",
       "    </tr>\n",
       "  </thead>\n",
       "  <tbody>\n",
       "    <tr>\n",
       "      <th>Green Day</th>\n",
       "      <td>20.0</td>\n",
       "    </tr>\n",
       "    <tr>\n",
       "      <th>Lionel Richie</th>\n",
       "      <td>20.0</td>\n",
       "    </tr>\n",
       "    <tr>\n",
       "      <th>Michael Jackson</th>\n",
       "      <td>20.0</td>\n",
       "    </tr>\n",
       "    <tr>\n",
       "      <th>Michael Jackson</th>\n",
       "      <td>20.0</td>\n",
       "    </tr>\n",
       "    <tr>\n",
       "      <th>Prince &amp; the Revolution</th>\n",
       "      <td>20.0</td>\n",
       "    </tr>\n",
       "    <tr>\n",
       "      <th>Shania Twain</th>\n",
       "      <td>20.0</td>\n",
       "    </tr>\n",
       "    <tr>\n",
       "      <th>Shania Twain</th>\n",
       "      <td>20.0</td>\n",
       "    </tr>\n",
       "    <tr>\n",
       "      <th>Supertramp</th>\n",
       "      <td>20.0</td>\n",
       "    </tr>\n",
       "  </tbody>\n",
       "</table>\n",
       "</div>"
      ],
      "text/plain": [
       "                         Certified sales (millions)\n",
       "Artist                                             \n",
       "Green Day                                      20.0\n",
       "Lionel Richie                                  20.0\n",
       "Michael Jackson                                20.0\n",
       "Michael Jackson                                20.0\n",
       "Prince & the Revolution                        20.0\n",
       "Shania Twain                                   20.0\n",
       "Shania Twain                                   20.0\n",
       "Supertramp                                     20.0"
      ]
     },
     "execution_count": 52,
     "metadata": {},
     "output_type": "execute_result"
    }
   ],
   "source": [
    "hit_albums_reindexed.loc[\"Green Day\":\"Supertramp\", [\"Certified sales (millions)\"]]"
   ]
  },
  {
   "cell_type": "markdown",
   "metadata": {},
   "source": [
    "We can also slice columns with loc. Let's re-load the full dataset first:  "
   ]
  },
  {
   "cell_type": "code",
   "execution_count": 53,
   "metadata": {},
   "outputs": [
    {
     "data": {
      "text/html": [
       "<div>\n",
       "<style scoped>\n",
       "    .dataframe tbody tr th:only-of-type {\n",
       "        vertical-align: middle;\n",
       "    }\n",
       "\n",
       "    .dataframe tbody tr th {\n",
       "        vertical-align: top;\n",
       "    }\n",
       "\n",
       "    .dataframe thead th {\n",
       "        text-align: right;\n",
       "    }\n",
       "</style>\n",
       "<table border=\"1\" class=\"dataframe\">\n",
       "  <thead>\n",
       "    <tr style=\"text-align: right;\">\n",
       "      <th></th>\n",
       "      <th>Artist</th>\n",
       "      <th>Album</th>\n",
       "      <th>Released</th>\n",
       "      <th>Genre</th>\n",
       "      <th>Certified sales (millions)</th>\n",
       "      <th>Claimed sales (millions)</th>\n",
       "    </tr>\n",
       "  </thead>\n",
       "  <tbody>\n",
       "    <tr>\n",
       "      <th>0</th>\n",
       "      <td>Michael Jackson</td>\n",
       "      <td>Thriller</td>\n",
       "      <td>1982</td>\n",
       "      <td>Pop, rock, R&amp;B</td>\n",
       "      <td>45.4</td>\n",
       "      <td>65.0</td>\n",
       "    </tr>\n",
       "    <tr>\n",
       "      <th>1</th>\n",
       "      <td>AC/DC</td>\n",
       "      <td>Back in Black</td>\n",
       "      <td>1980</td>\n",
       "      <td>Hard rock</td>\n",
       "      <td>25.9</td>\n",
       "      <td>50.0</td>\n",
       "    </tr>\n",
       "    <tr>\n",
       "      <th>2</th>\n",
       "      <td>Pink Floyd</td>\n",
       "      <td>The Dark Side of the Moon</td>\n",
       "      <td>1973</td>\n",
       "      <td>Progressive rock</td>\n",
       "      <td>22.7</td>\n",
       "      <td>45.0</td>\n",
       "    </tr>\n",
       "    <tr>\n",
       "      <th>3</th>\n",
       "      <td>Whitney Houston / Various artists</td>\n",
       "      <td>The Bodyguard</td>\n",
       "      <td>1992</td>\n",
       "      <td>Soundtrack/R&amp;B, soul, pop</td>\n",
       "      <td>27.4</td>\n",
       "      <td>44.0</td>\n",
       "    </tr>\n",
       "    <tr>\n",
       "      <th>4</th>\n",
       "      <td>Meat Loaf</td>\n",
       "      <td>Bat Out of Hell</td>\n",
       "      <td>1977</td>\n",
       "      <td>Hard rock, progressive rock</td>\n",
       "      <td>20.6</td>\n",
       "      <td>43.0</td>\n",
       "    </tr>\n",
       "  </tbody>\n",
       "</table>\n",
       "</div>"
      ],
      "text/plain": [
       "                              Artist                      Album  Released  \\\n",
       "0                    Michael Jackson                   Thriller      1982   \n",
       "1                              AC/DC              Back in Black      1980   \n",
       "2                         Pink Floyd  The Dark Side of the Moon      1973   \n",
       "3  Whitney Houston / Various artists              The Bodyguard      1992   \n",
       "4                          Meat Loaf            Bat Out of Hell      1977   \n",
       "\n",
       "                         Genre  Certified sales (millions)  \\\n",
       "0               Pop, rock, R&B                        45.4   \n",
       "1                    Hard rock                        25.9   \n",
       "2             Progressive rock                        22.7   \n",
       "3    Soundtrack/R&B, soul, pop                        27.4   \n",
       "4  Hard rock, progressive rock                        20.6   \n",
       "\n",
       "   Claimed sales (millions)  \n",
       "0                      65.0  \n",
       "1                      50.0  \n",
       "2                      45.0  \n",
       "3                      44.0  \n",
       "4                      43.0  "
      ]
     },
     "execution_count": 53,
     "metadata": {},
     "output_type": "execute_result"
    }
   ],
   "source": [
    "full_hit_albums = pd.read_csv(\"hit_albums.csv\")\n",
    "full_hit_albums.head()"
   ]
  },
  {
   "cell_type": "markdown",
   "metadata": {},
   "source": [
    "This creates a slice containing all rows and the columns from Artist to Released: "
   ]
  },
  {
   "cell_type": "code",
   "execution_count": 54,
   "metadata": {},
   "outputs": [
    {
     "data": {
      "text/html": [
       "<div>\n",
       "<style scoped>\n",
       "    .dataframe tbody tr th:only-of-type {\n",
       "        vertical-align: middle;\n",
       "    }\n",
       "\n",
       "    .dataframe tbody tr th {\n",
       "        vertical-align: top;\n",
       "    }\n",
       "\n",
       "    .dataframe thead th {\n",
       "        text-align: right;\n",
       "    }\n",
       "</style>\n",
       "<table border=\"1\" class=\"dataframe\">\n",
       "  <thead>\n",
       "    <tr style=\"text-align: right;\">\n",
       "      <th></th>\n",
       "      <th>Artist</th>\n",
       "      <th>Album</th>\n",
       "      <th>Released</th>\n",
       "    </tr>\n",
       "  </thead>\n",
       "  <tbody>\n",
       "    <tr>\n",
       "      <th>0</th>\n",
       "      <td>Michael Jackson</td>\n",
       "      <td>Thriller</td>\n",
       "      <td>1982</td>\n",
       "    </tr>\n",
       "    <tr>\n",
       "      <th>1</th>\n",
       "      <td>AC/DC</td>\n",
       "      <td>Back in Black</td>\n",
       "      <td>1980</td>\n",
       "    </tr>\n",
       "    <tr>\n",
       "      <th>2</th>\n",
       "      <td>Pink Floyd</td>\n",
       "      <td>The Dark Side of the Moon</td>\n",
       "      <td>1973</td>\n",
       "    </tr>\n",
       "    <tr>\n",
       "      <th>3</th>\n",
       "      <td>Whitney Houston / Various artists</td>\n",
       "      <td>The Bodyguard</td>\n",
       "      <td>1992</td>\n",
       "    </tr>\n",
       "    <tr>\n",
       "      <th>4</th>\n",
       "      <td>Meat Loaf</td>\n",
       "      <td>Bat Out of Hell</td>\n",
       "      <td>1977</td>\n",
       "    </tr>\n",
       "    <tr>\n",
       "      <th>...</th>\n",
       "      <td>...</td>\n",
       "      <td>...</td>\n",
       "      <td>...</td>\n",
       "    </tr>\n",
       "    <tr>\n",
       "      <th>72</th>\n",
       "      <td>Tracy Chapman</td>\n",
       "      <td>Tracy Chapman</td>\n",
       "      <td>1988</td>\n",
       "    </tr>\n",
       "    <tr>\n",
       "      <th>73</th>\n",
       "      <td>Usher</td>\n",
       "      <td>Confessions</td>\n",
       "      <td>2004</td>\n",
       "    </tr>\n",
       "    <tr>\n",
       "      <th>74</th>\n",
       "      <td>Various artists</td>\n",
       "      <td>Flashdance: Original Soundtrack from the Motio...</td>\n",
       "      <td>1983</td>\n",
       "    </tr>\n",
       "    <tr>\n",
       "      <th>75</th>\n",
       "      <td>Whitney Houston</td>\n",
       "      <td>Whitney</td>\n",
       "      <td>1987</td>\n",
       "    </tr>\n",
       "    <tr>\n",
       "      <th>76</th>\n",
       "      <td>Shakira</td>\n",
       "      <td>Laundry Service</td>\n",
       "      <td>2001</td>\n",
       "    </tr>\n",
       "  </tbody>\n",
       "</table>\n",
       "<p>77 rows × 3 columns</p>\n",
       "</div>"
      ],
      "text/plain": [
       "                               Artist  \\\n",
       "0                     Michael Jackson   \n",
       "1                               AC/DC   \n",
       "2                          Pink Floyd   \n",
       "3   Whitney Houston / Various artists   \n",
       "4                           Meat Loaf   \n",
       "..                                ...   \n",
       "72                      Tracy Chapman   \n",
       "73                              Usher   \n",
       "74                    Various artists   \n",
       "75                    Whitney Houston   \n",
       "76                            Shakira   \n",
       "\n",
       "                                                Album  Released  \n",
       "0                                            Thriller      1982  \n",
       "1                                       Back in Black      1980  \n",
       "2                           The Dark Side of the Moon      1973  \n",
       "3                                       The Bodyguard      1992  \n",
       "4                                     Bat Out of Hell      1977  \n",
       "..                                                ...       ...  \n",
       "72                                      Tracy Chapman      1988  \n",
       "73                                        Confessions      2004  \n",
       "74  Flashdance: Original Soundtrack from the Motio...      1983  \n",
       "75                                            Whitney      1987  \n",
       "76                                    Laundry Service      2001  \n",
       "\n",
       "[77 rows x 3 columns]"
      ]
     },
     "execution_count": 54,
     "metadata": {},
     "output_type": "execute_result"
    }
   ],
   "source": [
    "full_hit_albums.loc[:,\"Artist\":\"Released\"]"
   ]
  },
  {
   "cell_type": "markdown",
   "metadata": {},
   "source": [
    "Here's a slice for the first 10 rows and columns Artists to Released: "
   ]
  },
  {
   "cell_type": "code",
   "execution_count": 55,
   "metadata": {},
   "outputs": [
    {
     "data": {
      "text/html": [
       "<div>\n",
       "<style scoped>\n",
       "    .dataframe tbody tr th:only-of-type {\n",
       "        vertical-align: middle;\n",
       "    }\n",
       "\n",
       "    .dataframe tbody tr th {\n",
       "        vertical-align: top;\n",
       "    }\n",
       "\n",
       "    .dataframe thead th {\n",
       "        text-align: right;\n",
       "    }\n",
       "</style>\n",
       "<table border=\"1\" class=\"dataframe\">\n",
       "  <thead>\n",
       "    <tr style=\"text-align: right;\">\n",
       "      <th></th>\n",
       "      <th>Artist</th>\n",
       "      <th>Album</th>\n",
       "      <th>Released</th>\n",
       "    </tr>\n",
       "  </thead>\n",
       "  <tbody>\n",
       "    <tr>\n",
       "      <th>0</th>\n",
       "      <td>Michael Jackson</td>\n",
       "      <td>Thriller</td>\n",
       "      <td>1982</td>\n",
       "    </tr>\n",
       "    <tr>\n",
       "      <th>1</th>\n",
       "      <td>AC/DC</td>\n",
       "      <td>Back in Black</td>\n",
       "      <td>1980</td>\n",
       "    </tr>\n",
       "    <tr>\n",
       "      <th>2</th>\n",
       "      <td>Pink Floyd</td>\n",
       "      <td>The Dark Side of the Moon</td>\n",
       "      <td>1973</td>\n",
       "    </tr>\n",
       "    <tr>\n",
       "      <th>3</th>\n",
       "      <td>Whitney Houston / Various artists</td>\n",
       "      <td>The Bodyguard</td>\n",
       "      <td>1992</td>\n",
       "    </tr>\n",
       "    <tr>\n",
       "      <th>4</th>\n",
       "      <td>Meat Loaf</td>\n",
       "      <td>Bat Out of Hell</td>\n",
       "      <td>1977</td>\n",
       "    </tr>\n",
       "    <tr>\n",
       "      <th>5</th>\n",
       "      <td>Eagles</td>\n",
       "      <td>Their Greatest Hits (1971–1975)</td>\n",
       "      <td>1976</td>\n",
       "    </tr>\n",
       "    <tr>\n",
       "      <th>6</th>\n",
       "      <td>Bee Gees / Various artists</td>\n",
       "      <td>Saturday Night Fever</td>\n",
       "      <td>1977</td>\n",
       "    </tr>\n",
       "    <tr>\n",
       "      <th>7</th>\n",
       "      <td>Fleetwood Mac</td>\n",
       "      <td>Rumours</td>\n",
       "      <td>1977</td>\n",
       "    </tr>\n",
       "    <tr>\n",
       "      <th>8</th>\n",
       "      <td>Shania Twain</td>\n",
       "      <td>Come On Over</td>\n",
       "      <td>1997</td>\n",
       "    </tr>\n",
       "    <tr>\n",
       "      <th>9</th>\n",
       "      <td>Led Zeppelin</td>\n",
       "      <td>Led Zeppelin IV</td>\n",
       "      <td>1971</td>\n",
       "    </tr>\n",
       "    <tr>\n",
       "      <th>10</th>\n",
       "      <td>Michael Jackson</td>\n",
       "      <td>Bad</td>\n",
       "      <td>1987</td>\n",
       "    </tr>\n",
       "  </tbody>\n",
       "</table>\n",
       "</div>"
      ],
      "text/plain": [
       "                               Artist                            Album  \\\n",
       "0                     Michael Jackson                         Thriller   \n",
       "1                               AC/DC                    Back in Black   \n",
       "2                          Pink Floyd        The Dark Side of the Moon   \n",
       "3   Whitney Houston / Various artists                    The Bodyguard   \n",
       "4                           Meat Loaf                  Bat Out of Hell   \n",
       "5                              Eagles  Their Greatest Hits (1971–1975)   \n",
       "6          Bee Gees / Various artists             Saturday Night Fever   \n",
       "7                       Fleetwood Mac                          Rumours   \n",
       "8                        Shania Twain                     Come On Over   \n",
       "9                        Led Zeppelin                  Led Zeppelin IV   \n",
       "10                    Michael Jackson                              Bad   \n",
       "\n",
       "    Released  \n",
       "0       1982  \n",
       "1       1980  \n",
       "2       1973  \n",
       "3       1992  \n",
       "4       1977  \n",
       "5       1976  \n",
       "6       1977  \n",
       "7       1977  \n",
       "8       1997  \n",
       "9       1971  \n",
       "10      1987  "
      ]
     },
     "execution_count": 55,
     "metadata": {},
     "output_type": "execute_result"
    }
   ],
   "source": [
    "full_hit_albums.loc[:10,\"Artist\":\"Released\"]"
   ]
  },
  {
   "cell_type": "markdown",
   "metadata": {},
   "source": [
    "Here is the same thing using `iloc`, i.e., index based slicing:"
   ]
  },
  {
   "cell_type": "code",
   "execution_count": 56,
   "metadata": {},
   "outputs": [
    {
     "data": {
      "text/html": [
       "<div>\n",
       "<style scoped>\n",
       "    .dataframe tbody tr th:only-of-type {\n",
       "        vertical-align: middle;\n",
       "    }\n",
       "\n",
       "    .dataframe tbody tr th {\n",
       "        vertical-align: top;\n",
       "    }\n",
       "\n",
       "    .dataframe thead th {\n",
       "        text-align: right;\n",
       "    }\n",
       "</style>\n",
       "<table border=\"1\" class=\"dataframe\">\n",
       "  <thead>\n",
       "    <tr style=\"text-align: right;\">\n",
       "      <th></th>\n",
       "      <th>Artist</th>\n",
       "      <th>Album</th>\n",
       "      <th>Released</th>\n",
       "    </tr>\n",
       "  </thead>\n",
       "  <tbody>\n",
       "    <tr>\n",
       "      <th>0</th>\n",
       "      <td>Michael Jackson</td>\n",
       "      <td>Thriller</td>\n",
       "      <td>1982</td>\n",
       "    </tr>\n",
       "    <tr>\n",
       "      <th>1</th>\n",
       "      <td>AC/DC</td>\n",
       "      <td>Back in Black</td>\n",
       "      <td>1980</td>\n",
       "    </tr>\n",
       "    <tr>\n",
       "      <th>2</th>\n",
       "      <td>Pink Floyd</td>\n",
       "      <td>The Dark Side of the Moon</td>\n",
       "      <td>1973</td>\n",
       "    </tr>\n",
       "    <tr>\n",
       "      <th>3</th>\n",
       "      <td>Whitney Houston / Various artists</td>\n",
       "      <td>The Bodyguard</td>\n",
       "      <td>1992</td>\n",
       "    </tr>\n",
       "    <tr>\n",
       "      <th>4</th>\n",
       "      <td>Meat Loaf</td>\n",
       "      <td>Bat Out of Hell</td>\n",
       "      <td>1977</td>\n",
       "    </tr>\n",
       "    <tr>\n",
       "      <th>5</th>\n",
       "      <td>Eagles</td>\n",
       "      <td>Their Greatest Hits (1971–1975)</td>\n",
       "      <td>1976</td>\n",
       "    </tr>\n",
       "    <tr>\n",
       "      <th>6</th>\n",
       "      <td>Bee Gees / Various artists</td>\n",
       "      <td>Saturday Night Fever</td>\n",
       "      <td>1977</td>\n",
       "    </tr>\n",
       "    <tr>\n",
       "      <th>7</th>\n",
       "      <td>Fleetwood Mac</td>\n",
       "      <td>Rumours</td>\n",
       "      <td>1977</td>\n",
       "    </tr>\n",
       "    <tr>\n",
       "      <th>8</th>\n",
       "      <td>Shania Twain</td>\n",
       "      <td>Come On Over</td>\n",
       "      <td>1997</td>\n",
       "    </tr>\n",
       "    <tr>\n",
       "      <th>9</th>\n",
       "      <td>Led Zeppelin</td>\n",
       "      <td>Led Zeppelin IV</td>\n",
       "      <td>1971</td>\n",
       "    </tr>\n",
       "  </tbody>\n",
       "</table>\n",
       "</div>"
      ],
      "text/plain": [
       "                              Artist                            Album  \\\n",
       "0                    Michael Jackson                         Thriller   \n",
       "1                              AC/DC                    Back in Black   \n",
       "2                         Pink Floyd        The Dark Side of the Moon   \n",
       "3  Whitney Houston / Various artists                    The Bodyguard   \n",
       "4                          Meat Loaf                  Bat Out of Hell   \n",
       "5                             Eagles  Their Greatest Hits (1971–1975)   \n",
       "6         Bee Gees / Various artists             Saturday Night Fever   \n",
       "7                      Fleetwood Mac                          Rumours   \n",
       "8                       Shania Twain                     Come On Over   \n",
       "9                       Led Zeppelin                  Led Zeppelin IV   \n",
       "\n",
       "   Released  \n",
       "0      1982  \n",
       "1      1980  \n",
       "2      1973  \n",
       "3      1992  \n",
       "4      1977  \n",
       "5      1976  \n",
       "6      1977  \n",
       "7      1977  \n",
       "8      1997  \n",
       "9      1971  "
      ]
     },
     "execution_count": 56,
     "metadata": {},
     "output_type": "execute_result"
    }
   ],
   "source": [
    "full_hit_albums.iloc[0:10, 0:3]"
   ]
  },
  {
   "cell_type": "markdown",
   "metadata": {},
   "source": [
    "### Broadcasting\n",
    "\n",
    "Of course, we can use broadcasting and filtering based on boolean masks just as we do for series.\n",
    "\n",
    "Here we boradcast an operation on a series and set it to a new column. "
   ]
  },
  {
   "cell_type": "code",
   "execution_count": 57,
   "metadata": {},
   "outputs": [
    {
     "data": {
      "text/html": [
       "<div>\n",
       "<style scoped>\n",
       "    .dataframe tbody tr th:only-of-type {\n",
       "        vertical-align: middle;\n",
       "    }\n",
       "\n",
       "    .dataframe tbody tr th {\n",
       "        vertical-align: top;\n",
       "    }\n",
       "\n",
       "    .dataframe thead th {\n",
       "        text-align: right;\n",
       "    }\n",
       "</style>\n",
       "<table border=\"1\" class=\"dataframe\">\n",
       "  <thead>\n",
       "    <tr style=\"text-align: right;\">\n",
       "      <th></th>\n",
       "      <th>Artist</th>\n",
       "      <th>Album</th>\n",
       "      <th>Released</th>\n",
       "      <th>Genre</th>\n",
       "      <th>Certified sales (millions)</th>\n",
       "      <th>Claimed sales (millions)</th>\n",
       "      <th>Certified sales</th>\n",
       "    </tr>\n",
       "  </thead>\n",
       "  <tbody>\n",
       "    <tr>\n",
       "      <th>0</th>\n",
       "      <td>Michael Jackson</td>\n",
       "      <td>Thriller</td>\n",
       "      <td>1982</td>\n",
       "      <td>Pop, rock, R&amp;B</td>\n",
       "      <td>45.4</td>\n",
       "      <td>65.0</td>\n",
       "      <td>45400000.0</td>\n",
       "    </tr>\n",
       "    <tr>\n",
       "      <th>1</th>\n",
       "      <td>AC/DC</td>\n",
       "      <td>Back in Black</td>\n",
       "      <td>1980</td>\n",
       "      <td>Hard rock</td>\n",
       "      <td>25.9</td>\n",
       "      <td>50.0</td>\n",
       "      <td>25900000.0</td>\n",
       "    </tr>\n",
       "    <tr>\n",
       "      <th>2</th>\n",
       "      <td>Pink Floyd</td>\n",
       "      <td>The Dark Side of the Moon</td>\n",
       "      <td>1973</td>\n",
       "      <td>Progressive rock</td>\n",
       "      <td>22.7</td>\n",
       "      <td>45.0</td>\n",
       "      <td>22700000.0</td>\n",
       "    </tr>\n",
       "    <tr>\n",
       "      <th>3</th>\n",
       "      <td>Whitney Houston / Various artists</td>\n",
       "      <td>The Bodyguard</td>\n",
       "      <td>1992</td>\n",
       "      <td>Soundtrack/R&amp;B, soul, pop</td>\n",
       "      <td>27.4</td>\n",
       "      <td>44.0</td>\n",
       "      <td>27400000.0</td>\n",
       "    </tr>\n",
       "    <tr>\n",
       "      <th>4</th>\n",
       "      <td>Meat Loaf</td>\n",
       "      <td>Bat Out of Hell</td>\n",
       "      <td>1977</td>\n",
       "      <td>Hard rock, progressive rock</td>\n",
       "      <td>20.6</td>\n",
       "      <td>43.0</td>\n",
       "      <td>20600000.0</td>\n",
       "    </tr>\n",
       "  </tbody>\n",
       "</table>\n",
       "</div>"
      ],
      "text/plain": [
       "                              Artist                      Album  Released  \\\n",
       "0                    Michael Jackson                   Thriller      1982   \n",
       "1                              AC/DC              Back in Black      1980   \n",
       "2                         Pink Floyd  The Dark Side of the Moon      1973   \n",
       "3  Whitney Houston / Various artists              The Bodyguard      1992   \n",
       "4                          Meat Loaf            Bat Out of Hell      1977   \n",
       "\n",
       "                         Genre  Certified sales (millions)  \\\n",
       "0               Pop, rock, R&B                        45.4   \n",
       "1                    Hard rock                        25.9   \n",
       "2             Progressive rock                        22.7   \n",
       "3    Soundtrack/R&B, soul, pop                        27.4   \n",
       "4  Hard rock, progressive rock                        20.6   \n",
       "\n",
       "   Claimed sales (millions)  Certified sales  \n",
       "0                      65.0       45400000.0  \n",
       "1                      50.0       25900000.0  \n",
       "2                      45.0       22700000.0  \n",
       "3                      44.0       27400000.0  \n",
       "4                      43.0       20600000.0  "
      ]
     },
     "execution_count": 57,
     "metadata": {},
     "output_type": "execute_result"
    }
   ],
   "source": [
    "full_hit_albums[\"Certified sales\"] =  full_hit_albums[\"Certified sales (millions)\"] * 1000000\n",
    "full_hit_albums.head()"
   ]
  },
  {
   "cell_type": "markdown",
   "metadata": {},
   "source": [
    "Here we filter out all of the albums that were released before 1990. "
   ]
  },
  {
   "cell_type": "code",
   "execution_count": 58,
   "metadata": {},
   "outputs": [
    {
     "data": {
      "text/plain": [
       "0    False\n",
       "1    False\n",
       "2    False\n",
       "3     True\n",
       "4    False\n",
       "Name: Released, dtype: bool"
      ]
     },
     "execution_count": 58,
     "metadata": {},
     "output_type": "execute_result"
    }
   ],
   "source": [
    "mask = full_hit_albums[\"Released\"] > 1990\n",
    "mask.head()"
   ]
  },
  {
   "cell_type": "code",
   "execution_count": 59,
   "metadata": {},
   "outputs": [
    {
     "data": {
      "text/html": [
       "<div>\n",
       "<style scoped>\n",
       "    .dataframe tbody tr th:only-of-type {\n",
       "        vertical-align: middle;\n",
       "    }\n",
       "\n",
       "    .dataframe tbody tr th {\n",
       "        vertical-align: top;\n",
       "    }\n",
       "\n",
       "    .dataframe thead th {\n",
       "        text-align: right;\n",
       "    }\n",
       "</style>\n",
       "<table border=\"1\" class=\"dataframe\">\n",
       "  <thead>\n",
       "    <tr style=\"text-align: right;\">\n",
       "      <th></th>\n",
       "      <th>Artist</th>\n",
       "      <th>Album</th>\n",
       "      <th>Released</th>\n",
       "      <th>Genre</th>\n",
       "      <th>Certified sales (millions)</th>\n",
       "      <th>Claimed sales (millions)</th>\n",
       "      <th>Certified sales</th>\n",
       "    </tr>\n",
       "  </thead>\n",
       "  <tbody>\n",
       "    <tr>\n",
       "      <th>3</th>\n",
       "      <td>Whitney Houston / Various artists</td>\n",
       "      <td>The Bodyguard</td>\n",
       "      <td>1992</td>\n",
       "      <td>Soundtrack/R&amp;B, soul, pop</td>\n",
       "      <td>27.4</td>\n",
       "      <td>44.0</td>\n",
       "      <td>27400000.0</td>\n",
       "    </tr>\n",
       "    <tr>\n",
       "      <th>8</th>\n",
       "      <td>Shania Twain</td>\n",
       "      <td>Come On Over</td>\n",
       "      <td>1997</td>\n",
       "      <td>Country, pop</td>\n",
       "      <td>29.6</td>\n",
       "      <td>39.0</td>\n",
       "      <td>29600000.0</td>\n",
       "    </tr>\n",
       "    <tr>\n",
       "      <th>11</th>\n",
       "      <td>Alanis Morissette</td>\n",
       "      <td>Jagged Little Pill</td>\n",
       "      <td>1995</td>\n",
       "      <td>Alternative rock</td>\n",
       "      <td>24.8</td>\n",
       "      <td>33.0</td>\n",
       "      <td>24800000.0</td>\n",
       "    </tr>\n",
       "    <tr>\n",
       "      <th>12</th>\n",
       "      <td>Celine Dion</td>\n",
       "      <td>Falling into You</td>\n",
       "      <td>1996</td>\n",
       "      <td>Pop, Soft rock</td>\n",
       "      <td>20.2</td>\n",
       "      <td>32.0</td>\n",
       "      <td>20200000.0</td>\n",
       "    </tr>\n",
       "    <tr>\n",
       "      <th>15</th>\n",
       "      <td>Mariah Carey</td>\n",
       "      <td>Music Box</td>\n",
       "      <td>1993</td>\n",
       "      <td>Pop, R&amp;B, Rock</td>\n",
       "      <td>19.0</td>\n",
       "      <td>32.0</td>\n",
       "      <td>19000000.0</td>\n",
       "    </tr>\n",
       "  </tbody>\n",
       "</table>\n",
       "</div>"
      ],
      "text/plain": [
       "                               Artist               Album  Released  \\\n",
       "3   Whitney Houston / Various artists       The Bodyguard      1992   \n",
       "8                        Shania Twain        Come On Over      1997   \n",
       "11                  Alanis Morissette  Jagged Little Pill      1995   \n",
       "12                        Celine Dion    Falling into You      1996   \n",
       "15                       Mariah Carey           Music Box      1993   \n",
       "\n",
       "                        Genre  Certified sales (millions)  \\\n",
       "3   Soundtrack/R&B, soul, pop                        27.4   \n",
       "8                Country, pop                        29.6   \n",
       "11           Alternative rock                        24.8   \n",
       "12             Pop, Soft rock                        20.2   \n",
       "15             Pop, R&B, Rock                        19.0   \n",
       "\n",
       "    Claimed sales (millions)  Certified sales  \n",
       "3                       44.0       27400000.0  \n",
       "8                       39.0       29600000.0  \n",
       "11                      33.0       24800000.0  \n",
       "12                      32.0       20200000.0  \n",
       "15                      32.0       19000000.0  "
      ]
     },
     "execution_count": 59,
     "metadata": {},
     "output_type": "execute_result"
    }
   ],
   "source": [
    "full_hit_albums.loc[mask].head()"
   ]
  },
  {
   "cell_type": "markdown",
   "metadata": {},
   "source": [
    "Or, short: "
   ]
  },
  {
   "cell_type": "code",
   "execution_count": 60,
   "metadata": {},
   "outputs": [
    {
     "data": {
      "text/html": [
       "<div>\n",
       "<style scoped>\n",
       "    .dataframe tbody tr th:only-of-type {\n",
       "        vertical-align: middle;\n",
       "    }\n",
       "\n",
       "    .dataframe tbody tr th {\n",
       "        vertical-align: top;\n",
       "    }\n",
       "\n",
       "    .dataframe thead th {\n",
       "        text-align: right;\n",
       "    }\n",
       "</style>\n",
       "<table border=\"1\" class=\"dataframe\">\n",
       "  <thead>\n",
       "    <tr style=\"text-align: right;\">\n",
       "      <th></th>\n",
       "      <th>Artist</th>\n",
       "      <th>Album</th>\n",
       "      <th>Released</th>\n",
       "      <th>Genre</th>\n",
       "      <th>Certified sales (millions)</th>\n",
       "      <th>Claimed sales (millions)</th>\n",
       "      <th>Certified sales</th>\n",
       "    </tr>\n",
       "  </thead>\n",
       "  <tbody>\n",
       "    <tr>\n",
       "      <th>20</th>\n",
       "      <td>Adele</td>\n",
       "      <td>21</td>\n",
       "      <td>2011</td>\n",
       "      <td>Pop, soul</td>\n",
       "      <td>22.3</td>\n",
       "      <td>30.0</td>\n",
       "      <td>22300000.0</td>\n",
       "    </tr>\n",
       "    <tr>\n",
       "      <th>42</th>\n",
       "      <td>Norah Jones</td>\n",
       "      <td>Come Away with Me</td>\n",
       "      <td>2002</td>\n",
       "      <td>Jazz</td>\n",
       "      <td>25.0</td>\n",
       "      <td>NaN</td>\n",
       "      <td>25000000.0</td>\n",
       "    </tr>\n",
       "    <tr>\n",
       "      <th>56</th>\n",
       "      <td>Adele</td>\n",
       "      <td>25</td>\n",
       "      <td>2015</td>\n",
       "      <td>Soul, pop, R&amp;B</td>\n",
       "      <td>20.0</td>\n",
       "      <td>NaN</td>\n",
       "      <td>20000000.0</td>\n",
       "    </tr>\n",
       "    <tr>\n",
       "      <th>57</th>\n",
       "      <td>Avril Lavigne</td>\n",
       "      <td>Let Go</td>\n",
       "      <td>2002</td>\n",
       "      <td>Pop rock, alternative rock, post-grunge</td>\n",
       "      <td>20.0</td>\n",
       "      <td>NaN</td>\n",
       "      <td>20000000.0</td>\n",
       "    </tr>\n",
       "    <tr>\n",
       "      <th>69</th>\n",
       "      <td>Shania Twain</td>\n",
       "      <td>Up!</td>\n",
       "      <td>2002</td>\n",
       "      <td>Country, pop, world music</td>\n",
       "      <td>20.0</td>\n",
       "      <td>NaN</td>\n",
       "      <td>20000000.0</td>\n",
       "    </tr>\n",
       "    <tr>\n",
       "      <th>73</th>\n",
       "      <td>Usher</td>\n",
       "      <td>Confessions</td>\n",
       "      <td>2004</td>\n",
       "      <td>R&amp;B</td>\n",
       "      <td>20.0</td>\n",
       "      <td>NaN</td>\n",
       "      <td>20000000.0</td>\n",
       "    </tr>\n",
       "    <tr>\n",
       "      <th>76</th>\n",
       "      <td>Shakira</td>\n",
       "      <td>Laundry Service</td>\n",
       "      <td>2001</td>\n",
       "      <td>Pop, Rock</td>\n",
       "      <td>20.0</td>\n",
       "      <td>NaN</td>\n",
       "      <td>20000000.0</td>\n",
       "    </tr>\n",
       "  </tbody>\n",
       "</table>\n",
       "</div>"
      ],
      "text/plain": [
       "           Artist              Album  Released  \\\n",
       "20          Adele                 21      2011   \n",
       "42    Norah Jones  Come Away with Me      2002   \n",
       "56          Adele                 25      2015   \n",
       "57  Avril Lavigne             Let Go      2002   \n",
       "69   Shania Twain                Up!      2002   \n",
       "73          Usher        Confessions      2004   \n",
       "76        Shakira    Laundry Service      2001   \n",
       "\n",
       "                                      Genre  Certified sales (millions)  \\\n",
       "20                                Pop, soul                        22.3   \n",
       "42                                     Jazz                        25.0   \n",
       "56                           Soul, pop, R&B                        20.0   \n",
       "57  Pop rock, alternative rock, post-grunge                        20.0   \n",
       "69                Country, pop, world music                        20.0   \n",
       "73                                      R&B                        20.0   \n",
       "76                                Pop, Rock                        20.0   \n",
       "\n",
       "    Claimed sales (millions)  Certified sales  \n",
       "20                      30.0       22300000.0  \n",
       "42                       NaN       25000000.0  \n",
       "56                       NaN       20000000.0  \n",
       "57                       NaN       20000000.0  \n",
       "69                       NaN       20000000.0  \n",
       "73                       NaN       20000000.0  \n",
       "76                       NaN       20000000.0  "
      ]
     },
     "execution_count": 60,
     "metadata": {},
     "output_type": "execute_result"
    }
   ],
   "source": [
    "full_hit_albums.loc[full_hit_albums[\"Released\"] > 2000]"
   ]
  },
  {
   "cell_type": "markdown",
   "metadata": {},
   "source": [
    "### Grouping Data Frames\n",
    "\n",
    "Very often, we want to aggregate data. Given the hit-albums dataset, for example, we might want to ask how many albums each artist in that list has sold in total. We can do these aggregations using the [group-by method](https://pandas.pydata.org/pandas-docs/stable/user_guide/groupby.html). \n",
    "\n",
    "But first, let's take care of some NAN values by running [`ffill`](https://pandas.pydata.org/pandas-docs/stable/reference/api/pandas.DataFrame.ffill.html) on it. `ffill` fills in the certified sales based on the claimed sales if necessary. \n"
   ]
  },
  {
   "cell_type": "code",
   "execution_count": 61,
   "metadata": {},
   "outputs": [
    {
     "data": {
      "text/html": [
       "<div>\n",
       "<style scoped>\n",
       "    .dataframe tbody tr th:only-of-type {\n",
       "        vertical-align: middle;\n",
       "    }\n",
       "\n",
       "    .dataframe tbody tr th {\n",
       "        vertical-align: top;\n",
       "    }\n",
       "\n",
       "    .dataframe thead th {\n",
       "        text-align: right;\n",
       "    }\n",
       "</style>\n",
       "<table border=\"1\" class=\"dataframe\">\n",
       "  <thead>\n",
       "    <tr style=\"text-align: right;\">\n",
       "      <th></th>\n",
       "      <th>Artist</th>\n",
       "      <th>Certified sales (millions)</th>\n",
       "      <th>Claimed sales (millions)</th>\n",
       "    </tr>\n",
       "  </thead>\n",
       "  <tbody>\n",
       "    <tr>\n",
       "      <th>0</th>\n",
       "      <td>Michael Jackson</td>\n",
       "      <td>45.4</td>\n",
       "      <td>65.0</td>\n",
       "    </tr>\n",
       "    <tr>\n",
       "      <th>1</th>\n",
       "      <td>AC/DC</td>\n",
       "      <td>25.9</td>\n",
       "      <td>50.0</td>\n",
       "    </tr>\n",
       "    <tr>\n",
       "      <th>2</th>\n",
       "      <td>Pink Floyd</td>\n",
       "      <td>22.7</td>\n",
       "      <td>45.0</td>\n",
       "    </tr>\n",
       "    <tr>\n",
       "      <th>3</th>\n",
       "      <td>Whitney Houston / Various artists</td>\n",
       "      <td>27.4</td>\n",
       "      <td>44.0</td>\n",
       "    </tr>\n",
       "    <tr>\n",
       "      <th>4</th>\n",
       "      <td>Meat Loaf</td>\n",
       "      <td>20.6</td>\n",
       "      <td>43.0</td>\n",
       "    </tr>\n",
       "    <tr>\n",
       "      <th>...</th>\n",
       "      <td>...</td>\n",
       "      <td>...</td>\n",
       "      <td>...</td>\n",
       "    </tr>\n",
       "    <tr>\n",
       "      <th>72</th>\n",
       "      <td>Tracy Chapman</td>\n",
       "      <td>20.0</td>\n",
       "      <td>20.0</td>\n",
       "    </tr>\n",
       "    <tr>\n",
       "      <th>73</th>\n",
       "      <td>Usher</td>\n",
       "      <td>20.0</td>\n",
       "      <td>20.0</td>\n",
       "    </tr>\n",
       "    <tr>\n",
       "      <th>74</th>\n",
       "      <td>Various artists</td>\n",
       "      <td>20.0</td>\n",
       "      <td>20.0</td>\n",
       "    </tr>\n",
       "    <tr>\n",
       "      <th>75</th>\n",
       "      <td>Whitney Houston</td>\n",
       "      <td>20.0</td>\n",
       "      <td>20.0</td>\n",
       "    </tr>\n",
       "    <tr>\n",
       "      <th>76</th>\n",
       "      <td>Shakira</td>\n",
       "      <td>20.0</td>\n",
       "      <td>20.0</td>\n",
       "    </tr>\n",
       "  </tbody>\n",
       "</table>\n",
       "<p>77 rows × 3 columns</p>\n",
       "</div>"
      ],
      "text/plain": [
       "                               Artist Certified sales (millions)  \\\n",
       "0                     Michael Jackson                       45.4   \n",
       "1                               AC/DC                       25.9   \n",
       "2                          Pink Floyd                       22.7   \n",
       "3   Whitney Houston / Various artists                       27.4   \n",
       "4                           Meat Loaf                       20.6   \n",
       "..                                ...                        ...   \n",
       "72                      Tracy Chapman                       20.0   \n",
       "73                              Usher                       20.0   \n",
       "74                    Various artists                       20.0   \n",
       "75                    Whitney Houston                       20.0   \n",
       "76                            Shakira                       20.0   \n",
       "\n",
       "   Claimed sales (millions)  \n",
       "0                      65.0  \n",
       "1                      50.0  \n",
       "2                      45.0  \n",
       "3                      44.0  \n",
       "4                      43.0  \n",
       "..                      ...  \n",
       "72                     20.0  \n",
       "73                     20.0  \n",
       "74                     20.0  \n",
       "75                     20.0  \n",
       "76                     20.0  \n",
       "\n",
       "[77 rows x 3 columns]"
      ]
     },
     "execution_count": 61,
     "metadata": {},
     "output_type": "execute_result"
    }
   ],
   "source": [
    "hit_albums = hit_albums.ffill(axis=1)\n",
    "hit_albums"
   ]
  },
  {
   "cell_type": "markdown",
   "metadata": {},
   "source": [
    "We can specify a column to group by, for example, \"Artist\". We can look at the groups created:"
   ]
  },
  {
   "cell_type": "code",
   "execution_count": 62,
   "metadata": {},
   "outputs": [
    {
     "data": {
      "text/plain": [
       "{'ABBA': [31], 'AC/DC': [1], 'Ace of Base': [50], 'Adele': [20, 56], 'Alanis Morissette': [11], 'Avril Lavigne': [57], 'Backstreet Boys': [48, 49], 'Bee Gees / Various artists': [6], 'Bob Marley & The Wailers': [37], 'Bon Jovi': [32, 54], 'Boston': [58], 'Britney Spears': [35, 59], 'Bruce Springsteen': [22], 'Carole King': [38], 'Celine Dion': [12, 18], 'Cyndi Lauper': [52], 'Def Leppard': [61], 'Dire Straits': [23], 'Eagles': [5, 14], 'Eminem': [55], 'Eric Clapton': [60], 'Fleetwood Mac': [7], 'George Michael': [62], 'Green Day': [63], 'Guns N' Roses': [30], 'James Horner': [24], 'Led Zeppelin': [9], 'Linkin Park': [36], 'Lionel Richie': [64], 'Madonna': [25, 39, 40], 'Mariah Carey': [15, 41], 'Meat Loaf': [4], 'Metallica': [26], 'Michael Jackson': [0, 10, 16, 65, 66], 'Nirvana': [27], 'Norah Jones': [42], 'Oasis': [53], 'Phil Collins': [43], 'Pink Floyd': [2, 28], 'Prince & the Revolution': [67], 'Queen': [44], 'Santana': [29], 'Shakira': [76], 'Shania Twain': [8, 68, 69], 'Simon & Garfunkel': [45], 'Spice Girls': [33], 'Supertramp': [70], 'TLC': [51], 'The Beatles': [13, 19, 21], 'Tina Turner': [71], 'Tracy Chapman': [72], 'U2': [46], 'Usher': [73], 'Various artists': [17, 34, 74], 'Whitney Houston': [47, 75], 'Whitney Houston / Various artists': [3]}"
      ]
     },
     "execution_count": 62,
     "metadata": {},
     "output_type": "execute_result"
    }
   ],
   "source": [
    "grouped = hit_albums.groupby(\"Artist\")\n",
    "grouped.groups"
   ]
  },
  {
   "cell_type": "markdown",
   "metadata": {},
   "source": [
    "Note that the keys map to a set of indices. For example, Michael Jackson's albums are found at indices [0, 10, 16, 65, 66].\n",
    "\n",
    "Once we have created these groups, we can specify what to do with it.\n",
    "\n",
    "Pandas has a couple of built in functions to make this easy. For example, we can just call `sum()`:"
   ]
  },
  {
   "cell_type": "code",
   "execution_count": 63,
   "metadata": {},
   "outputs": [
    {
     "data": {
      "text/html": [
       "<div>\n",
       "<style scoped>\n",
       "    .dataframe tbody tr th:only-of-type {\n",
       "        vertical-align: middle;\n",
       "    }\n",
       "\n",
       "    .dataframe tbody tr th {\n",
       "        vertical-align: top;\n",
       "    }\n",
       "\n",
       "    .dataframe thead th {\n",
       "        text-align: right;\n",
       "    }\n",
       "</style>\n",
       "<table border=\"1\" class=\"dataframe\">\n",
       "  <thead>\n",
       "    <tr style=\"text-align: right;\">\n",
       "      <th></th>\n",
       "      <th>Certified sales (millions)</th>\n",
       "      <th>Claimed sales (millions)</th>\n",
       "    </tr>\n",
       "    <tr>\n",
       "      <th>Artist</th>\n",
       "      <th></th>\n",
       "      <th></th>\n",
       "    </tr>\n",
       "  </thead>\n",
       "  <tbody>\n",
       "    <tr>\n",
       "      <th>ABBA</th>\n",
       "      <td>29.0</td>\n",
       "      <td>29.0</td>\n",
       "    </tr>\n",
       "    <tr>\n",
       "      <th>AC/DC</th>\n",
       "      <td>25.9</td>\n",
       "      <td>50.0</td>\n",
       "    </tr>\n",
       "    <tr>\n",
       "      <th>Ace of Base</th>\n",
       "      <td>23.0</td>\n",
       "      <td>23.0</td>\n",
       "    </tr>\n",
       "    <tr>\n",
       "      <th>Adele</th>\n",
       "      <td>42.3</td>\n",
       "      <td>50.0</td>\n",
       "    </tr>\n",
       "    <tr>\n",
       "      <th>Alanis Morissette</th>\n",
       "      <td>24.8</td>\n",
       "      <td>33.0</td>\n",
       "    </tr>\n",
       "    <tr>\n",
       "      <th>Avril Lavigne</th>\n",
       "      <td>20.0</td>\n",
       "      <td>20.0</td>\n",
       "    </tr>\n",
       "    <tr>\n",
       "      <th>Backstreet Boys</th>\n",
       "      <td>48.0</td>\n",
       "      <td>48.0</td>\n",
       "    </tr>\n",
       "    <tr>\n",
       "      <th>Bee Gees / Various artists</th>\n",
       "      <td>19.0</td>\n",
       "      <td>40.0</td>\n",
       "    </tr>\n",
       "    <tr>\n",
       "      <th>Bob Marley &amp; The Wailers</th>\n",
       "      <td>25.0</td>\n",
       "      <td>25.0</td>\n",
       "    </tr>\n",
       "    <tr>\n",
       "      <th>Bon Jovi</th>\n",
       "      <td>49.0</td>\n",
       "      <td>49.0</td>\n",
       "    </tr>\n",
       "  </tbody>\n",
       "</table>\n",
       "</div>"
      ],
      "text/plain": [
       "                           Certified sales (millions) Claimed sales (millions)\n",
       "Artist                                                                        \n",
       "ABBA                                             29.0                     29.0\n",
       "AC/DC                                            25.9                     50.0\n",
       "Ace of Base                                      23.0                     23.0\n",
       "Adele                                            42.3                     50.0\n",
       "Alanis Morissette                                24.8                     33.0\n",
       "Avril Lavigne                                    20.0                     20.0\n",
       "Backstreet Boys                                  48.0                     48.0\n",
       "Bee Gees / Various artists                       19.0                     40.0\n",
       "Bob Marley & The Wailers                         25.0                     25.0\n",
       "Bon Jovi                                         49.0                     49.0"
      ]
     },
     "execution_count": 63,
     "metadata": {},
     "output_type": "execute_result"
    }
   ],
   "source": [
    "grouped.sum().head(10)"
   ]
  },
  {
   "cell_type": "markdown",
   "metadata": {},
   "source": [
    "We can see here that we've summed up the data for each column."
   ]
  },
  {
   "cell_type": "markdown",
   "metadata": {},
   "source": [
    "Now we sort them, and have a nice result:"
   ]
  },
  {
   "cell_type": "code",
   "execution_count": 64,
   "metadata": {},
   "outputs": [
    {
     "data": {
      "text/html": [
       "<div>\n",
       "<style scoped>\n",
       "    .dataframe tbody tr th:only-of-type {\n",
       "        vertical-align: middle;\n",
       "    }\n",
       "\n",
       "    .dataframe tbody tr th {\n",
       "        vertical-align: top;\n",
       "    }\n",
       "\n",
       "    .dataframe thead th {\n",
       "        text-align: right;\n",
       "    }\n",
       "</style>\n",
       "<table border=\"1\" class=\"dataframe\">\n",
       "  <thead>\n",
       "    <tr style=\"text-align: right;\">\n",
       "      <th></th>\n",
       "      <th>Certified sales (millions)</th>\n",
       "      <th>Claimed sales (millions)</th>\n",
       "    </tr>\n",
       "    <tr>\n",
       "      <th>Artist</th>\n",
       "      <th></th>\n",
       "      <th></th>\n",
       "    </tr>\n",
       "  </thead>\n",
       "  <tbody>\n",
       "    <tr>\n",
       "      <th>Michael Jackson</th>\n",
       "      <td>123.3</td>\n",
       "      <td>171.0</td>\n",
       "    </tr>\n",
       "    <tr>\n",
       "      <th>Shania Twain</th>\n",
       "      <td>69.6</td>\n",
       "      <td>79.0</td>\n",
       "    </tr>\n",
       "    <tr>\n",
       "      <th>Madonna</th>\n",
       "      <td>69.4</td>\n",
       "      <td>80.0</td>\n",
       "    </tr>\n",
       "    <tr>\n",
       "      <th>Various artists</th>\n",
       "      <td>65.9</td>\n",
       "      <td>80.0</td>\n",
       "    </tr>\n",
       "    <tr>\n",
       "      <th>Eagles</th>\n",
       "      <td>53.7</td>\n",
       "      <td>74.0</td>\n",
       "    </tr>\n",
       "  </tbody>\n",
       "</table>\n",
       "</div>"
      ],
      "text/plain": [
       "                Certified sales (millions) Claimed sales (millions)\n",
       "Artist                                                             \n",
       "Michael Jackson                      123.3                    171.0\n",
       "Shania Twain                          69.6                     79.0\n",
       "Madonna                               69.4                     80.0\n",
       "Various artists                       65.9                     80.0\n",
       "Eagles                                53.7                     74.0"
      ]
     },
     "execution_count": 64,
     "metadata": {},
     "output_type": "execute_result"
    }
   ],
   "source": [
    "grouped.sum().sort_values(\"Certified sales (millions)\", ascending=False).head()"
   ]
  },
  {
   "cell_type": "markdown",
   "metadata": {},
   "source": [
    "Another aggregation method is the `count` method. "
   ]
  },
  {
   "cell_type": "code",
   "execution_count": 65,
   "metadata": {},
   "outputs": [
    {
     "data": {
      "text/html": [
       "<div>\n",
       "<style scoped>\n",
       "    .dataframe tbody tr th:only-of-type {\n",
       "        vertical-align: middle;\n",
       "    }\n",
       "\n",
       "    .dataframe tbody tr th {\n",
       "        vertical-align: top;\n",
       "    }\n",
       "\n",
       "    .dataframe thead th {\n",
       "        text-align: right;\n",
       "    }\n",
       "</style>\n",
       "<table border=\"1\" class=\"dataframe\">\n",
       "  <thead>\n",
       "    <tr style=\"text-align: right;\">\n",
       "      <th></th>\n",
       "      <th>Certified sales (millions)</th>\n",
       "      <th>Claimed sales (millions)</th>\n",
       "    </tr>\n",
       "    <tr>\n",
       "      <th>Artist</th>\n",
       "      <th></th>\n",
       "      <th></th>\n",
       "    </tr>\n",
       "  </thead>\n",
       "  <tbody>\n",
       "    <tr>\n",
       "      <th>Michael Jackson</th>\n",
       "      <td>5</td>\n",
       "      <td>5</td>\n",
       "    </tr>\n",
       "    <tr>\n",
       "      <th>Various artists</th>\n",
       "      <td>3</td>\n",
       "      <td>3</td>\n",
       "    </tr>\n",
       "    <tr>\n",
       "      <th>Madonna</th>\n",
       "      <td>3</td>\n",
       "      <td>3</td>\n",
       "    </tr>\n",
       "    <tr>\n",
       "      <th>Shania Twain</th>\n",
       "      <td>3</td>\n",
       "      <td>3</td>\n",
       "    </tr>\n",
       "    <tr>\n",
       "      <th>The Beatles</th>\n",
       "      <td>3</td>\n",
       "      <td>3</td>\n",
       "    </tr>\n",
       "    <tr>\n",
       "      <th>Pink Floyd</th>\n",
       "      <td>2</td>\n",
       "      <td>2</td>\n",
       "    </tr>\n",
       "    <tr>\n",
       "      <th>Whitney Houston</th>\n",
       "      <td>2</td>\n",
       "      <td>2</td>\n",
       "    </tr>\n",
       "    <tr>\n",
       "      <th>Adele</th>\n",
       "      <td>2</td>\n",
       "      <td>2</td>\n",
       "    </tr>\n",
       "    <tr>\n",
       "      <th>Mariah Carey</th>\n",
       "      <td>2</td>\n",
       "      <td>2</td>\n",
       "    </tr>\n",
       "    <tr>\n",
       "      <th>Backstreet Boys</th>\n",
       "      <td>2</td>\n",
       "      <td>2</td>\n",
       "    </tr>\n",
       "  </tbody>\n",
       "</table>\n",
       "</div>"
      ],
      "text/plain": [
       "                 Certified sales (millions)  Claimed sales (millions)\n",
       "Artist                                                               \n",
       "Michael Jackson                           5                         5\n",
       "Various artists                           3                         3\n",
       "Madonna                                   3                         3\n",
       "Shania Twain                              3                         3\n",
       "The Beatles                               3                         3\n",
       "Pink Floyd                                2                         2\n",
       "Whitney Houston                           2                         2\n",
       "Adele                                     2                         2\n",
       "Mariah Carey                              2                         2\n",
       "Backstreet Boys                           2                         2"
      ]
     },
     "execution_count": 65,
     "metadata": {},
     "output_type": "execute_result"
    }
   ],
   "source": [
    "grouped.count().sort_values(\"Certified sales (millions)\", ascending=False).head(10)"
   ]
  },
  {
   "cell_type": "markdown",
   "metadata": {},
   "source": [
    " A very generic solution is the `agg()` function, which we can pass a function to do things with the data:"
   ]
  },
  {
   "cell_type": "code",
   "execution_count": 66,
   "metadata": {},
   "outputs": [
    {
     "data": {
      "text/html": [
       "<div>\n",
       "<style scoped>\n",
       "    .dataframe tbody tr th:only-of-type {\n",
       "        vertical-align: middle;\n",
       "    }\n",
       "\n",
       "    .dataframe tbody tr th {\n",
       "        vertical-align: top;\n",
       "    }\n",
       "\n",
       "    .dataframe thead th {\n",
       "        text-align: right;\n",
       "    }\n",
       "</style>\n",
       "<table border=\"1\" class=\"dataframe\">\n",
       "  <thead>\n",
       "    <tr style=\"text-align: right;\">\n",
       "      <th></th>\n",
       "      <th>Certified sales (millions)</th>\n",
       "      <th>Claimed sales (millions)</th>\n",
       "    </tr>\n",
       "    <tr>\n",
       "      <th>Artist</th>\n",
       "      <th></th>\n",
       "      <th></th>\n",
       "    </tr>\n",
       "  </thead>\n",
       "  <tbody>\n",
       "    <tr>\n",
       "      <th>ABBA</th>\n",
       "      <td>29.0</td>\n",
       "      <td>29.0</td>\n",
       "    </tr>\n",
       "    <tr>\n",
       "      <th>AC/DC</th>\n",
       "      <td>25.9</td>\n",
       "      <td>50.0</td>\n",
       "    </tr>\n",
       "    <tr>\n",
       "      <th>Ace of Base</th>\n",
       "      <td>23.0</td>\n",
       "      <td>23.0</td>\n",
       "    </tr>\n",
       "    <tr>\n",
       "      <th>Adele</th>\n",
       "      <td>42.3</td>\n",
       "      <td>50.0</td>\n",
       "    </tr>\n",
       "    <tr>\n",
       "      <th>Alanis Morissette</th>\n",
       "      <td>24.8</td>\n",
       "      <td>33.0</td>\n",
       "    </tr>\n",
       "  </tbody>\n",
       "</table>\n",
       "</div>"
      ],
      "text/plain": [
       "                  Certified sales (millions) Claimed sales (millions)\n",
       "Artist                                                               \n",
       "ABBA                                    29.0                     29.0\n",
       "AC/DC                                   25.9                     50.0\n",
       "Ace of Base                             23.0                     23.0\n",
       "Adele                                   42.3                     50.0\n",
       "Alanis Morissette                       24.8                     33.0"
      ]
     },
     "execution_count": 66,
     "metadata": {},
     "output_type": "execute_result"
    }
   ],
   "source": [
    "# here we pass the sum function, which calcualtes the sum of a list, to the group\n",
    "grouped.agg('sum').head()"
   ]
  },
  {
   "cell_type": "markdown",
   "metadata": {},
   "source": [
    "We can also calculate a std-deviation:"
   ]
  },
  {
   "cell_type": "code",
   "execution_count": 67,
   "metadata": {},
   "outputs": [
    {
     "data": {
      "text/html": [
       "<div>\n",
       "<style scoped>\n",
       "    .dataframe tbody tr th:only-of-type {\n",
       "        vertical-align: middle;\n",
       "    }\n",
       "\n",
       "    .dataframe tbody tr th {\n",
       "        vertical-align: top;\n",
       "    }\n",
       "\n",
       "    .dataframe thead th {\n",
       "        text-align: right;\n",
       "    }\n",
       "</style>\n",
       "<table border=\"1\" class=\"dataframe\">\n",
       "  <thead>\n",
       "    <tr style=\"text-align: right;\">\n",
       "      <th></th>\n",
       "      <th>Certified sales (millions)</th>\n",
       "      <th>Claimed sales (millions)</th>\n",
       "    </tr>\n",
       "    <tr>\n",
       "      <th>Artist</th>\n",
       "      <th></th>\n",
       "      <th></th>\n",
       "    </tr>\n",
       "  </thead>\n",
       "  <tbody>\n",
       "    <tr>\n",
       "      <th>Michael Jackson</th>\n",
       "      <td>11.645085</td>\n",
       "      <td>18.417383</td>\n",
       "    </tr>\n",
       "    <tr>\n",
       "      <th>Eagles</th>\n",
       "      <td>7.566043</td>\n",
       "      <td>7.071068</td>\n",
       "    </tr>\n",
       "    <tr>\n",
       "      <th>Britney Spears</th>\n",
       "      <td>5.656854</td>\n",
       "      <td>5.656854</td>\n",
       "    </tr>\n",
       "    <tr>\n",
       "      <th>Shania Twain</th>\n",
       "      <td>5.542563</td>\n",
       "      <td>10.969655</td>\n",
       "    </tr>\n",
       "    <tr>\n",
       "      <th>Various artists</th>\n",
       "      <td>5.329478</td>\n",
       "      <td>6.110101</td>\n",
       "    </tr>\n",
       "    <tr>\n",
       "      <th>Bon Jovi</th>\n",
       "      <td>4.949747</td>\n",
       "      <td>4.949747</td>\n",
       "    </tr>\n",
       "    <tr>\n",
       "      <th>The Beatles</th>\n",
       "      <td>4.578573</td>\n",
       "      <td>1.000000</td>\n",
       "    </tr>\n",
       "    <tr>\n",
       "      <th>Mariah Carey</th>\n",
       "      <td>4.242641</td>\n",
       "      <td>4.949747</td>\n",
       "    </tr>\n",
       "    <tr>\n",
       "      <th>Pink Floyd</th>\n",
       "      <td>3.606245</td>\n",
       "      <td>10.606602</td>\n",
       "    </tr>\n",
       "    <tr>\n",
       "      <th>Whitney Houston</th>\n",
       "      <td>3.535534</td>\n",
       "      <td>3.535534</td>\n",
       "    </tr>\n",
       "    <tr>\n",
       "      <th>Madonna</th>\n",
       "      <td>3.233162</td>\n",
       "      <td>2.886751</td>\n",
       "    </tr>\n",
       "    <tr>\n",
       "      <th>Adele</th>\n",
       "      <td>1.626346</td>\n",
       "      <td>7.071068</td>\n",
       "    </tr>\n",
       "    <tr>\n",
       "      <th>Celine Dion</th>\n",
       "      <td>0.636396</td>\n",
       "      <td>0.707107</td>\n",
       "    </tr>\n",
       "    <tr>\n",
       "      <th>Backstreet Boys</th>\n",
       "      <td>0.000000</td>\n",
       "      <td>0.000000</td>\n",
       "    </tr>\n",
       "    <tr>\n",
       "      <th>ABBA</th>\n",
       "      <td>NaN</td>\n",
       "      <td>NaN</td>\n",
       "    </tr>\n",
       "    <tr>\n",
       "      <th>AC/DC</th>\n",
       "      <td>NaN</td>\n",
       "      <td>NaN</td>\n",
       "    </tr>\n",
       "    <tr>\n",
       "      <th>Ace of Base</th>\n",
       "      <td>NaN</td>\n",
       "      <td>NaN</td>\n",
       "    </tr>\n",
       "    <tr>\n",
       "      <th>Alanis Morissette</th>\n",
       "      <td>NaN</td>\n",
       "      <td>NaN</td>\n",
       "    </tr>\n",
       "    <tr>\n",
       "      <th>Avril Lavigne</th>\n",
       "      <td>NaN</td>\n",
       "      <td>NaN</td>\n",
       "    </tr>\n",
       "    <tr>\n",
       "      <th>Bee Gees / Various artists</th>\n",
       "      <td>NaN</td>\n",
       "      <td>NaN</td>\n",
       "    </tr>\n",
       "  </tbody>\n",
       "</table>\n",
       "</div>"
      ],
      "text/plain": [
       "                            Certified sales (millions)  \\\n",
       "Artist                                                   \n",
       "Michael Jackson                              11.645085   \n",
       "Eagles                                        7.566043   \n",
       "Britney Spears                                5.656854   \n",
       "Shania Twain                                  5.542563   \n",
       "Various artists                               5.329478   \n",
       "Bon Jovi                                      4.949747   \n",
       "The Beatles                                   4.578573   \n",
       "Mariah Carey                                  4.242641   \n",
       "Pink Floyd                                    3.606245   \n",
       "Whitney Houston                               3.535534   \n",
       "Madonna                                       3.233162   \n",
       "Adele                                         1.626346   \n",
       "Celine Dion                                   0.636396   \n",
       "Backstreet Boys                               0.000000   \n",
       "ABBA                                               NaN   \n",
       "AC/DC                                              NaN   \n",
       "Ace of Base                                        NaN   \n",
       "Alanis Morissette                                  NaN   \n",
       "Avril Lavigne                                      NaN   \n",
       "Bee Gees / Various artists                         NaN   \n",
       "\n",
       "                            Claimed sales (millions)  \n",
       "Artist                                                \n",
       "Michael Jackson                            18.417383  \n",
       "Eagles                                      7.071068  \n",
       "Britney Spears                              5.656854  \n",
       "Shania Twain                               10.969655  \n",
       "Various artists                             6.110101  \n",
       "Bon Jovi                                    4.949747  \n",
       "The Beatles                                 1.000000  \n",
       "Mariah Carey                                4.949747  \n",
       "Pink Floyd                                 10.606602  \n",
       "Whitney Houston                             3.535534  \n",
       "Madonna                                     2.886751  \n",
       "Adele                                       7.071068  \n",
       "Celine Dion                                 0.707107  \n",
       "Backstreet Boys                             0.000000  \n",
       "ABBA                                             NaN  \n",
       "AC/DC                                            NaN  \n",
       "Ace of Base                                      NaN  \n",
       "Alanis Morissette                                NaN  \n",
       "Avril Lavigne                                    NaN  \n",
       "Bee Gees / Various artists                       NaN  "
      ]
     },
     "execution_count": 67,
     "metadata": {},
     "output_type": "execute_result"
    }
   ],
   "source": [
    "grouped.agg(\"std\").sort_values(\"Certified sales (millions)\", ascending=False).head(20)"
   ]
  },
  {
   "cell_type": "markdown",
   "metadata": {},
   "source": [
    "Here is an aggregation with an in-line function definition where we still create the sum, but also multiply by a million. We use a [lambda expression](https://docs.python.org/3/tutorial/controlflow.html#lambda-expressions) to define the function:"
   ]
  },
  {
   "cell_type": "code",
   "execution_count": 68,
   "metadata": {},
   "outputs": [
    {
     "data": {
      "text/html": [
       "<div>\n",
       "<style scoped>\n",
       "    .dataframe tbody tr th:only-of-type {\n",
       "        vertical-align: middle;\n",
       "    }\n",
       "\n",
       "    .dataframe tbody tr th {\n",
       "        vertical-align: top;\n",
       "    }\n",
       "\n",
       "    .dataframe thead th {\n",
       "        text-align: right;\n",
       "    }\n",
       "</style>\n",
       "<table border=\"1\" class=\"dataframe\">\n",
       "  <thead>\n",
       "    <tr style=\"text-align: right;\">\n",
       "      <th></th>\n",
       "      <th>Certified sales (millions)</th>\n",
       "      <th>Claimed sales (millions)</th>\n",
       "    </tr>\n",
       "    <tr>\n",
       "      <th>Artist</th>\n",
       "      <th></th>\n",
       "      <th></th>\n",
       "    </tr>\n",
       "  </thead>\n",
       "  <tbody>\n",
       "    <tr>\n",
       "      <th>ABBA</th>\n",
       "      <td>29000000.0</td>\n",
       "      <td>29000000.0</td>\n",
       "    </tr>\n",
       "    <tr>\n",
       "      <th>AC/DC</th>\n",
       "      <td>25900000.0</td>\n",
       "      <td>50000000.0</td>\n",
       "    </tr>\n",
       "    <tr>\n",
       "      <th>Ace of Base</th>\n",
       "      <td>23000000.0</td>\n",
       "      <td>23000000.0</td>\n",
       "    </tr>\n",
       "    <tr>\n",
       "      <th>Adele</th>\n",
       "      <td>42300000.0</td>\n",
       "      <td>50000000.0</td>\n",
       "    </tr>\n",
       "    <tr>\n",
       "      <th>Alanis Morissette</th>\n",
       "      <td>24800000.0</td>\n",
       "      <td>33000000.0</td>\n",
       "    </tr>\n",
       "    <tr>\n",
       "      <th>Avril Lavigne</th>\n",
       "      <td>20000000.0</td>\n",
       "      <td>20000000.0</td>\n",
       "    </tr>\n",
       "    <tr>\n",
       "      <th>Backstreet Boys</th>\n",
       "      <td>48000000.0</td>\n",
       "      <td>48000000.0</td>\n",
       "    </tr>\n",
       "    <tr>\n",
       "      <th>Bee Gees / Various artists</th>\n",
       "      <td>19000000.0</td>\n",
       "      <td>40000000.0</td>\n",
       "    </tr>\n",
       "    <tr>\n",
       "      <th>Bob Marley &amp; The Wailers</th>\n",
       "      <td>25000000.0</td>\n",
       "      <td>25000000.0</td>\n",
       "    </tr>\n",
       "    <tr>\n",
       "      <th>Bon Jovi</th>\n",
       "      <td>49000000.0</td>\n",
       "      <td>49000000.0</td>\n",
       "    </tr>\n",
       "  </tbody>\n",
       "</table>\n",
       "</div>"
      ],
      "text/plain": [
       "                            Certified sales (millions)  \\\n",
       "Artist                                                   \n",
       "ABBA                                        29000000.0   \n",
       "AC/DC                                       25900000.0   \n",
       "Ace of Base                                 23000000.0   \n",
       "Adele                                       42300000.0   \n",
       "Alanis Morissette                           24800000.0   \n",
       "Avril Lavigne                               20000000.0   \n",
       "Backstreet Boys                             48000000.0   \n",
       "Bee Gees / Various artists                  19000000.0   \n",
       "Bob Marley & The Wailers                    25000000.0   \n",
       "Bon Jovi                                    49000000.0   \n",
       "\n",
       "                            Claimed sales (millions)  \n",
       "Artist                                                \n",
       "ABBA                                      29000000.0  \n",
       "AC/DC                                     50000000.0  \n",
       "Ace of Base                               23000000.0  \n",
       "Adele                                     50000000.0  \n",
       "Alanis Morissette                         33000000.0  \n",
       "Avril Lavigne                             20000000.0  \n",
       "Backstreet Boys                           48000000.0  \n",
       "Bee Gees / Various artists                40000000.0  \n",
       "Bob Marley & The Wailers                  25000000.0  \n",
       "Bon Jovi                                  49000000.0  "
      ]
     },
     "execution_count": 68,
     "metadata": {},
     "output_type": "execute_result"
    }
   ],
   "source": [
    "grouped.agg(lambda rows : sum([cell * 1000000 for cell in rows])).head(10)"
   ]
  },
  {
   "cell_type": "markdown",
   "metadata": {},
   "source": [
    "Lambda expressions are just a different way of defining a function in line, without assigning it a name. They only work for a single statement. \n",
    "\n",
    "Here is a simple lambda expression, which returns a function, which we assign to the variable add:"
   ]
  },
  {
   "cell_type": "code",
   "execution_count": 69,
   "metadata": {},
   "outputs": [],
   "source": [
    "add = lambda a, b : a+b"
   ]
  },
  {
   "cell_type": "code",
   "execution_count": 70,
   "metadata": {},
   "outputs": [
    {
     "data": {
      "text/plain": [
       "5"
      ]
     },
     "execution_count": 70,
     "metadata": {},
     "output_type": "execute_result"
    }
   ],
   "source": [
    "add(2, 3)"
   ]
  },
  {
   "cell_type": "markdown",
   "metadata": {},
   "source": [
    "So, let's take this apart: \n",
    "\n",
    "```python\n",
    "[cell * 1000000 for cell in rows]\n",
    "```\n",
    "\n",
    "This part is a list comprehension, that takes an array `rows` and multiplies every element with 1,000,000. \n",
    "\n",
    "The surrounding `sum` is a call to the sum function, so adds up the values in the just modified array. \n",
    "\n",
    "And finally, the lambda expression packs all of this in a function. \n",
    "\n",
    "Here is a different, longer way to write this: "
   ]
  },
  {
   "cell_type": "code",
   "execution_count": 71,
   "metadata": {},
   "outputs": [
    {
     "data": {
      "text/html": [
       "<div>\n",
       "<style scoped>\n",
       "    .dataframe tbody tr th:only-of-type {\n",
       "        vertical-align: middle;\n",
       "    }\n",
       "\n",
       "    .dataframe tbody tr th {\n",
       "        vertical-align: top;\n",
       "    }\n",
       "\n",
       "    .dataframe thead th {\n",
       "        text-align: right;\n",
       "    }\n",
       "</style>\n",
       "<table border=\"1\" class=\"dataframe\">\n",
       "  <thead>\n",
       "    <tr style=\"text-align: right;\">\n",
       "      <th></th>\n",
       "      <th>Certified sales (millions)</th>\n",
       "      <th>Claimed sales (millions)</th>\n",
       "    </tr>\n",
       "    <tr>\n",
       "      <th>Artist</th>\n",
       "      <th></th>\n",
       "      <th></th>\n",
       "    </tr>\n",
       "  </thead>\n",
       "  <tbody>\n",
       "    <tr>\n",
       "      <th>ABBA</th>\n",
       "      <td>29000000.0</td>\n",
       "      <td>29000000.0</td>\n",
       "    </tr>\n",
       "    <tr>\n",
       "      <th>AC/DC</th>\n",
       "      <td>25900000.0</td>\n",
       "      <td>50000000.0</td>\n",
       "    </tr>\n",
       "    <tr>\n",
       "      <th>Ace of Base</th>\n",
       "      <td>23000000.0</td>\n",
       "      <td>23000000.0</td>\n",
       "    </tr>\n",
       "    <tr>\n",
       "      <th>Adele</th>\n",
       "      <td>42300000.0</td>\n",
       "      <td>50000000.0</td>\n",
       "    </tr>\n",
       "    <tr>\n",
       "      <th>Alanis Morissette</th>\n",
       "      <td>24800000.0</td>\n",
       "      <td>33000000.0</td>\n",
       "    </tr>\n",
       "    <tr>\n",
       "      <th>Avril Lavigne</th>\n",
       "      <td>20000000.0</td>\n",
       "      <td>20000000.0</td>\n",
       "    </tr>\n",
       "    <tr>\n",
       "      <th>Backstreet Boys</th>\n",
       "      <td>48000000.0</td>\n",
       "      <td>48000000.0</td>\n",
       "    </tr>\n",
       "    <tr>\n",
       "      <th>Bee Gees / Various artists</th>\n",
       "      <td>19000000.0</td>\n",
       "      <td>40000000.0</td>\n",
       "    </tr>\n",
       "    <tr>\n",
       "      <th>Bob Marley &amp; The Wailers</th>\n",
       "      <td>25000000.0</td>\n",
       "      <td>25000000.0</td>\n",
       "    </tr>\n",
       "    <tr>\n",
       "      <th>Bon Jovi</th>\n",
       "      <td>49000000.0</td>\n",
       "      <td>49000000.0</td>\n",
       "    </tr>\n",
       "  </tbody>\n",
       "</table>\n",
       "</div>"
      ],
      "text/plain": [
       "                            Certified sales (millions)  \\\n",
       "Artist                                                   \n",
       "ABBA                                        29000000.0   \n",
       "AC/DC                                       25900000.0   \n",
       "Ace of Base                                 23000000.0   \n",
       "Adele                                       42300000.0   \n",
       "Alanis Morissette                           24800000.0   \n",
       "Avril Lavigne                               20000000.0   \n",
       "Backstreet Boys                             48000000.0   \n",
       "Bee Gees / Various artists                  19000000.0   \n",
       "Bob Marley & The Wailers                    25000000.0   \n",
       "Bon Jovi                                    49000000.0   \n",
       "\n",
       "                            Claimed sales (millions)  \n",
       "Artist                                                \n",
       "ABBA                                      29000000.0  \n",
       "AC/DC                                     50000000.0  \n",
       "Ace of Base                               23000000.0  \n",
       "Adele                                     50000000.0  \n",
       "Alanis Morissette                         33000000.0  \n",
       "Avril Lavigne                             20000000.0  \n",
       "Backstreet Boys                           48000000.0  \n",
       "Bee Gees / Various artists                40000000.0  \n",
       "Bob Marley & The Wailers                  25000000.0  \n",
       "Bon Jovi                                  49000000.0  "
      ]
     },
     "execution_count": 71,
     "metadata": {},
     "output_type": "execute_result"
    }
   ],
   "source": [
    "def sumUpAndMultiplyByMillion(rows):\n",
    "    multiplied_rows = [cell * 1000000 for cell in rows]\n",
    "    summed_value = sum(multiplied_rows)\n",
    "    return summed_value\n",
    "\n",
    "grouped.agg(sumUpAndMultiplyByMillion).head(10)"
   ]
  },
  {
   "cell_type": "markdown",
   "metadata": {},
   "source": [
    "# Working with Dates\n",
    "\n",
    "Pandas is pretty good at working with dates. When you initially load a dataset, chances are the date will be provided as a string: \n",
    "\n",
    "\n"
   ]
  },
  {
   "cell_type": "code",
   "execution_count": 72,
   "metadata": {},
   "outputs": [
    {
     "data": {
      "text/html": [
       "<div>\n",
       "<style scoped>\n",
       "    .dataframe tbody tr th:only-of-type {\n",
       "        vertical-align: middle;\n",
       "    }\n",
       "\n",
       "    .dataframe tbody tr th {\n",
       "        vertical-align: top;\n",
       "    }\n",
       "\n",
       "    .dataframe thead th {\n",
       "        text-align: right;\n",
       "    }\n",
       "</style>\n",
       "<table border=\"1\" class=\"dataframe\">\n",
       "  <thead>\n",
       "    <tr style=\"text-align: right;\">\n",
       "      <th></th>\n",
       "      <th>Name</th>\n",
       "      <th>Years Experience</th>\n",
       "      <th>Date Joined</th>\n",
       "    </tr>\n",
       "  </thead>\n",
       "  <tbody>\n",
       "    <tr>\n",
       "      <th>0</th>\n",
       "      <td>Joe Coder</td>\n",
       "      <td>4</td>\n",
       "      <td>2022-11-03</td>\n",
       "    </tr>\n",
       "    <tr>\n",
       "      <th>1</th>\n",
       "      <td>Roberta Hacker</td>\n",
       "      <td>4</td>\n",
       "      <td>2023-04-01</td>\n",
       "    </tr>\n",
       "    <tr>\n",
       "      <th>2</th>\n",
       "      <td>Ludmilla Designer</td>\n",
       "      <td>4</td>\n",
       "      <td>2019-12-24</td>\n",
       "    </tr>\n",
       "    <tr>\n",
       "      <th>3</th>\n",
       "      <td>Devin Opers</td>\n",
       "      <td>5</td>\n",
       "      <td>2018-05-01</td>\n",
       "    </tr>\n",
       "  </tbody>\n",
       "</table>\n",
       "</div>"
      ],
      "text/plain": [
       "                Name  Years Experience Date Joined\n",
       "0          Joe Coder                 4  2022-11-03\n",
       "1     Roberta Hacker                 4  2023-04-01\n",
       "2  Ludmilla Designer                 4  2019-12-24\n",
       "3        Devin Opers                 5  2018-05-01"
      ]
     },
     "execution_count": 72,
     "metadata": {},
     "output_type": "execute_result"
    }
   ],
   "source": [
    "team = pd.DataFrame({\n",
    "        \"Name\":[\"Joe Coder\", \"Roberta Hacker\", \"Ludmilla Designer\", \"Devin Opers\"],\n",
    "        \"Years Experience\":[4, 4, 4, 5],\n",
    "        \"Date Joined\":[\"2022-11-03\", \"2023-04-01\",\"2019-12-24\" ,\"2018-05-01\"]\n",
    "    })\n",
    "team\n"
   ]
  },
  {
   "cell_type": "code",
   "execution_count": 73,
   "metadata": {},
   "outputs": [
    {
     "data": {
      "text/plain": [
       "Name                object\n",
       "Years Experience     int64\n",
       "Date Joined         object\n",
       "dtype: object"
      ]
     },
     "execution_count": 73,
     "metadata": {},
     "output_type": "execute_result"
    }
   ],
   "source": [
    "# show column data types\n",
    "team.dtypes"
   ]
  },
  {
   "cell_type": "markdown",
   "metadata": {},
   "source": [
    "The [`to_datetime()`](https://pandas.pydata.org/docs/reference/api/pandas.to_datetime.html) function lets you parse dates: "
   ]
  },
  {
   "cell_type": "code",
   "execution_count": 74,
   "metadata": {},
   "outputs": [
    {
     "data": {
      "text/html": [
       "<div>\n",
       "<style scoped>\n",
       "    .dataframe tbody tr th:only-of-type {\n",
       "        vertical-align: middle;\n",
       "    }\n",
       "\n",
       "    .dataframe tbody tr th {\n",
       "        vertical-align: top;\n",
       "    }\n",
       "\n",
       "    .dataframe thead th {\n",
       "        text-align: right;\n",
       "    }\n",
       "</style>\n",
       "<table border=\"1\" class=\"dataframe\">\n",
       "  <thead>\n",
       "    <tr style=\"text-align: right;\">\n",
       "      <th></th>\n",
       "      <th>Name</th>\n",
       "      <th>Years Experience</th>\n",
       "      <th>Date Joined</th>\n",
       "    </tr>\n",
       "  </thead>\n",
       "  <tbody>\n",
       "    <tr>\n",
       "      <th>0</th>\n",
       "      <td>Joe Coder</td>\n",
       "      <td>4</td>\n",
       "      <td>2022-11-03</td>\n",
       "    </tr>\n",
       "    <tr>\n",
       "      <th>1</th>\n",
       "      <td>Roberta Hacker</td>\n",
       "      <td>4</td>\n",
       "      <td>2023-04-01</td>\n",
       "    </tr>\n",
       "    <tr>\n",
       "      <th>2</th>\n",
       "      <td>Ludmilla Designer</td>\n",
       "      <td>4</td>\n",
       "      <td>2019-12-24</td>\n",
       "    </tr>\n",
       "    <tr>\n",
       "      <th>3</th>\n",
       "      <td>Devin Opers</td>\n",
       "      <td>5</td>\n",
       "      <td>2018-05-01</td>\n",
       "    </tr>\n",
       "  </tbody>\n",
       "</table>\n",
       "</div>"
      ],
      "text/plain": [
       "                Name  Years Experience Date Joined\n",
       "0          Joe Coder                 4  2022-11-03\n",
       "1     Roberta Hacker                 4  2023-04-01\n",
       "2  Ludmilla Designer                 4  2019-12-24\n",
       "3        Devin Opers                 5  2018-05-01"
      ]
     },
     "execution_count": 74,
     "metadata": {},
     "output_type": "execute_result"
    }
   ],
   "source": [
    "team[\"Date Joined\"] = pd.to_datetime(team[\"Date Joined\"])\n",
    "team"
   ]
  },
  {
   "cell_type": "code",
   "execution_count": 75,
   "metadata": {},
   "outputs": [
    {
     "data": {
      "text/plain": [
       "Name                        object\n",
       "Years Experience             int64\n",
       "Date Joined         datetime64[ns]\n",
       "dtype: object"
      ]
     },
     "execution_count": 75,
     "metadata": {},
     "output_type": "execute_result"
    }
   ],
   "source": [
    "team.dtypes"
   ]
  },
  {
   "cell_type": "markdown",
   "metadata": {},
   "source": [
    "To access individual elements of a date, you can use the [`dt` fields](https://pandas.pydata.org/docs/reference/api/pandas.Series.dt.html)"
   ]
  },
  {
   "cell_type": "code",
   "execution_count": 76,
   "metadata": {},
   "outputs": [
    {
     "data": {
      "text/html": [
       "<div>\n",
       "<style scoped>\n",
       "    .dataframe tbody tr th:only-of-type {\n",
       "        vertical-align: middle;\n",
       "    }\n",
       "\n",
       "    .dataframe tbody tr th {\n",
       "        vertical-align: top;\n",
       "    }\n",
       "\n",
       "    .dataframe thead th {\n",
       "        text-align: right;\n",
       "    }\n",
       "</style>\n",
       "<table border=\"1\" class=\"dataframe\">\n",
       "  <thead>\n",
       "    <tr style=\"text-align: right;\">\n",
       "      <th></th>\n",
       "      <th>Name</th>\n",
       "      <th>Years Experience</th>\n",
       "      <th>Date Joined</th>\n",
       "      <th>month joined</th>\n",
       "      <th>quater joined</th>\n",
       "    </tr>\n",
       "  </thead>\n",
       "  <tbody>\n",
       "    <tr>\n",
       "      <th>0</th>\n",
       "      <td>Joe Coder</td>\n",
       "      <td>4</td>\n",
       "      <td>2022-11-03</td>\n",
       "      <td>11</td>\n",
       "      <td>4</td>\n",
       "    </tr>\n",
       "    <tr>\n",
       "      <th>1</th>\n",
       "      <td>Roberta Hacker</td>\n",
       "      <td>4</td>\n",
       "      <td>2023-04-01</td>\n",
       "      <td>4</td>\n",
       "      <td>2</td>\n",
       "    </tr>\n",
       "    <tr>\n",
       "      <th>2</th>\n",
       "      <td>Ludmilla Designer</td>\n",
       "      <td>4</td>\n",
       "      <td>2019-12-24</td>\n",
       "      <td>12</td>\n",
       "      <td>4</td>\n",
       "    </tr>\n",
       "    <tr>\n",
       "      <th>3</th>\n",
       "      <td>Devin Opers</td>\n",
       "      <td>5</td>\n",
       "      <td>2018-05-01</td>\n",
       "      <td>5</td>\n",
       "      <td>2</td>\n",
       "    </tr>\n",
       "  </tbody>\n",
       "</table>\n",
       "</div>"
      ],
      "text/plain": [
       "                Name  Years Experience Date Joined  month joined  \\\n",
       "0          Joe Coder                 4  2022-11-03            11   \n",
       "1     Roberta Hacker                 4  2023-04-01             4   \n",
       "2  Ludmilla Designer                 4  2019-12-24            12   \n",
       "3        Devin Opers                 5  2018-05-01             5   \n",
       "\n",
       "   quater joined  \n",
       "0              4  \n",
       "1              2  \n",
       "2              4  \n",
       "3              2  "
      ]
     },
     "execution_count": 76,
     "metadata": {},
     "output_type": "execute_result"
    }
   ],
   "source": [
    "team[\"month joined\"] = team[\"Date Joined\"].dt.month\n",
    "team[\"quater joined\"] = team[\"Date Joined\"].dt.quarter\n",
    "team"
   ]
  },
  {
   "cell_type": "markdown",
   "metadata": {},
   "source": [
    "### Exercise: Data Frames\n",
    "\n",
    "* Calculate the mean certified sales for all albums.\n",
    "* Create a new dataframe that only contains albums with more than 20 million certified sales.\n",
    "* Create a new dataframe based on the hit_albums dataset that only contains the artists that have at least two albums in the list.\n",
    "* Create a new dataframe that contains the aggregates sum of all certified sales for each year."
   ]
  },
  {
   "cell_type": "markdown",
   "metadata": {},
   "source": [
    "## Buit-in Plotting\n",
    "\n",
    "Dataframes have built-in plotting capabilities based on the [matplotlib](http://matplotlib.org/) library. We'll see more about plotting later - here we'll only use the buit-in capabilities of pandas. \n",
    "\n",
    "First, we have to import the matplotlib library, and tell Jupyter to display the images directly here:"
   ]
  },
  {
   "cell_type": "code",
   "execution_count": 77,
   "metadata": {},
   "outputs": [],
   "source": [
    "import matplotlib\n",
    "import matplotlib.pyplot as plt\n",
    "# This next line tells jupyter to render the images inline\n",
    "%matplotlib inline\n",
    "hit_albums = pd.read_csv(\"hit_albums.csv\")"
   ]
  },
  {
   "cell_type": "markdown",
   "metadata": {},
   "source": [
    "Then we can simply call the plot attribute:"
   ]
  },
  {
   "cell_type": "code",
   "execution_count": 78,
   "metadata": {},
   "outputs": [
    {
     "data": {
      "text/plain": [
       "<Axes: >"
      ]
     },
     "execution_count": 78,
     "metadata": {},
     "output_type": "execute_result"
    },
    {
     "data": {
      "image/png": "[encoded data removed]",
      "text/plain": [
       "<Figure size 640x480 with 1 Axes>"
      ]
     },
     "metadata": {},
     "output_type": "display_data"
    }
   ],
   "source": [
    "hit_albums[\"Certified sales (millions)\"].plot()"
   ]
  },
  {
   "cell_type": "markdown",
   "metadata": {},
   "source": [
    "We can also use bar-charts instead of line-charts:"
   ]
  },
  {
   "cell_type": "code",
   "execution_count": 79,
   "metadata": {},
   "outputs": [
    {
     "data": {
      "text/plain": [
       "<Axes: ylabel='Artist'>"
      ]
     },
     "execution_count": 79,
     "metadata": {},
     "output_type": "execute_result"
    },
    {
     "data": {
      "image/png": "[encoded data removed]",
      "text/plain": [
       "<Figure size 640x480 with 1 Axes>"
      ]
     },
     "metadata": {},
     "output_type": "display_data"
    }
   ],
   "source": [
    "hit_albums.groupby(\"Artist\").count()[\"Album\"].sort_values(ascending=False)[:15].plot(kind=\"barh\")"
   ]
  },
  {
   "cell_type": "markdown",
   "metadata": {},
   "source": [
    "We can compare certified and claimed sales is a scatterplot:"
   ]
  },
  {
   "cell_type": "code",
   "execution_count": 80,
   "metadata": {},
   "outputs": [
    {
     "data": {
      "text/plain": [
       "<Axes: xlabel='Certified sales (millions)', ylabel='Claimed sales (millions)'>"
      ]
     },
     "execution_count": 80,
     "metadata": {},
     "output_type": "execute_result"
    },
    {
     "data": {
      "image/png": "[encoded data removed]",
      "text/plain": [
       "<Figure size 640x480 with 1 Axes>"
      ]
     },
     "metadata": {},
     "output_type": "display_data"
    }
   ],
   "source": [
    "hit_albums.plot.scatter(x=\"Certified sales (millions)\", y=\"Claimed sales (millions)\")"
   ]
  },
  {
   "cell_type": "markdown",
   "metadata": {},
   "source": [
    "Or a histogram: "
   ]
  },
  {
   "cell_type": "code",
   "execution_count": 81,
   "metadata": {},
   "outputs": [
    {
     "data": {
      "text/plain": [
       "Artist                         object\n",
       "Album                          object\n",
       "Released                        int64\n",
       "Genre                          object\n",
       "Certified sales (millions)    float64\n",
       "Claimed sales (millions)      float64\n",
       "dtype: object"
      ]
     },
     "execution_count": 81,
     "metadata": {},
     "output_type": "execute_result"
    }
   ],
   "source": [
    "# Here we first cast the column to a numeric type\n",
    "hit_albums[\"Certified sales (millions)\"] = pd.to_numeric(hit_albums[\"Certified sales (millions)\"])\n",
    "hit_albums[\"Claimed sales (millions)\"] = pd.to_numeric(hit_albums[\"Claimed sales (millions)\"])\n",
    "hit_albums.dtypes"
   ]
  },
  {
   "cell_type": "code",
   "execution_count": 82,
   "metadata": {},
   "outputs": [
    {
     "data": {
      "text/plain": [
       "<Axes: ylabel='Frequency'>"
      ]
     },
     "execution_count": 82,
     "metadata": {},
     "output_type": "execute_result"
    },
    {
     "data": {
      "image/png": "[encoded data removed]",
      "text/plain": [
       "<Figure size 640x480 with 1 Axes>"
      ]
     },
     "metadata": {},
     "output_type": "display_data"
    }
   ],
   "source": [
    "hit_albums[['Certified sales (millions)', 'Claimed sales (millions)']].plot.hist(bins=12, alpha=0.5)"
   ]
  },
  {
   "cell_type": "markdown",
   "metadata": {},
   "source": [
    "We'll do more sophisticated plotting next! "
   ]
  },
  {
   "cell_type": "markdown",
   "metadata": {},
   "source": []
  }
 ],
 "metadata": {
  "anaconda-cloud": {},
  "kernelspec": {
   "display_name": "Python 3 (ipykernel)",
   "language": "python",
   "name": "python3"
  },
  "language_info": {
   "codemirror_mode": {
    "name": "ipython",
    "version": 3
   },
   "file_extension": ".py",
   "mimetype": "text/x-python",
   "name": "python",
   "nbconvert_exporter": "python",
   "pygments_lexer": "ipython3",
   "version": "3.12.4"
  }
 },
 "nbformat": 4,
 "nbformat_minor": 1
}
